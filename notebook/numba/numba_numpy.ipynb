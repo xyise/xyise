{
 "cells": [
  {
   "cell_type": "code",
   "execution_count": 1,
   "source": [
    "from numba import jit, njit\n",
    "import numba as nb\n",
    "import numpy as np\n",
    "import pandas as pd\n",
    "import time\n",
    "from numba_func import *"
   ],
   "outputs": [],
   "metadata": {}
  },
  {
   "cell_type": "markdown",
   "source": [
    "# Numba can beat Numpy (easily)\n",
    "\n",
    "***Illustrative example using a markov chain.***\n",
    "\n",
    "![](https://en.wikipedia.org/wiki/Markov_chain#/media/File:Markov-cheese-lettuce-grapes.svg)\n",
    "\n",
    "A (discrete-time) markov chain is a stochastic model with many real life applications. See the relevant [Wikipedia](https://en.wikipedia.org/wiki/Markov_chain) page for more information. The model is described in terms of\n",
    "* a finite set of states\n",
    "* transition probabilities from one state to another state\n",
    "\n",
    "To simulate a markov chain, \n",
    "* set the intial state\n",
    "* draw a uniform random number between 0 and 1\n",
    "* compare to the cumulative transition probabilities to determine the next state\n",
    "* repeat"
   ],
   "metadata": {}
  },
  {
   "cell_type": "markdown",
   "source": [
    "## markov chain simulation function\n",
    "\n",
    "### three versions\n",
    "1. Native Python\n",
    "1. Native Python with numby (via njit)\n",
    "1. Numpy implementation\n",
    "\n",
    "Notes:\n",
    "* All functions have the same arguments\n",
    "* In the first two functions, we use a digitize function for scalar, which is compiled via numba. (see numba_func.py)\n",
    "* **In this case, the numba implementation is as easy to read and as short as the numpy implementation.**"
   ],
   "metadata": {}
  },
  {
   "cell_type": "code",
   "execution_count": 7,
   "source": [
    "# Nativa Python version\n",
    "def markov_chain_simulation_naive(v_curr_state, v_draw, mtx_CTP0):\n",
    "    \"\"\"Markov chain simulation\n",
    "\n",
    "    Args:\n",
    "        v_curr_state (1-d numpy vector, integer): vector of current states\n",
    "        v_draw (1-d numpy vector, float): vector of uniform random numbers between 0 and 1\n",
    "        mtx_CTP0 (1-d numpy matrix, float): cumulative transition probability matrix without the last column (which consists of ones by definition)\n",
    "\n",
    "    Returns:\n",
    "        1-d numpy vector, integer: vector of next states\n",
    "    \"\"\"\n",
    "\n",
    "    v_next_state = np.empty_like(v_curr_state)\n",
    "    for n in range(v_next_state.size):\n",
    "        curr_s = v_curr_state[n]\n",
    "        v_next_state[n] = digitize_scalar_nb(v_draw[n], mtx_CTP0[curr_s])\n",
    "    \n",
    "    return v_next_state\n",
    "\n",
    "# Nativa Python version (identical to above), numba'ed\n",
    "@njit(fastmath=True, cache=True)\n",
    "def markov_chain_simulation_nb(v_curr_state, v_draw, mtx_CTP0):\n",
    "    v_next_state = np.empty_like(v_curr_state)\n",
    "    for n in range(v_next_state.size):\n",
    "        curr_s = v_curr_state[n]\n",
    "        v_next_state[n] = digitize_scalar_nb(v_draw[n], mtx_CTP0[curr_s])\n",
    "    return v_next_state\n",
    "\n",
    "# call the above function, so that it is compiled and cached before running the benchmark runs below\n",
    "markov_chain_simulation_nb(np.zeros(1, dtype=np.int64), np.zeros(1), np.array([[0.2]]))\n",
    "\n",
    "# Numpy implementation\n",
    "def markov_chain_simulation_np(v_curr_state, v_draw, mtx_CTP0):\n",
    "    v_next_state = np.empty_like(v_curr_state)\n",
    "    for s in range(0, mtx_CTP0.shape[0]):\n",
    "        mask = v_curr_state == s\n",
    "        v_next_state[mask] = np.digitize(v_draw[mask], mtx_CTP0[s])\n",
    "    return v_next_state"
   ],
   "outputs": [],
   "metadata": {}
  },
  {
   "cell_type": "markdown",
   "source": [
    "## Transition Probability Matrix\n",
    "\n",
    "* create a transition probability matrix using random numbers\n",
    "* normalise each row to add up to one. \n",
    "* calculate the cumulative probability matrix. The last column, which consists of ones by definition, should be removed. "
   ],
   "metadata": {}
  },
  {
   "cell_type": "code",
   "execution_count": 10,
   "source": [
    "# define transition probability matrix\n",
    "num_state = 5\n",
    "mtx_TP = np.random.uniform(0.0, 1.0, (num_state, num_state))\n",
    "mtx_TP /= np.sum(mtx_TP, axis=1, keepdims=True)\n",
    "mtx_CPT = np.cumsum(mtx_TP, axis=1)\n",
    "mtx_CPT0 = mtx_CPT[:,:-1]\n",
    "\n",
    "print('Transition Matrix')\n",
    "print(mtx_TP)\n",
    "print('Cumulative Transition Matrix')\n",
    "print(mtx_CPT)"
   ],
   "outputs": [
    {
     "output_type": "stream",
     "name": "stdout",
     "text": [
      "Transition Matrix\n",
      "[[0.16835985 0.24909748 0.11624153 0.24116664 0.22513451]\n",
      " [0.28399115 0.01561099 0.29673091 0.26400873 0.13965822]\n",
      " [0.17578114 0.06803144 0.2445504  0.23297029 0.27866672]\n",
      " [0.13765799 0.22784075 0.18815866 0.21858196 0.22776065]\n",
      " [0.11716478 0.12659762 0.25013652 0.28501575 0.22108532]]\n",
      "Cumulative Transition Matrix\n",
      "[[0.16835985 0.41745733 0.53369886 0.77486549 1.        ]\n",
      " [0.28399115 0.29960214 0.59633305 0.86034178 1.        ]\n",
      " [0.17578114 0.24381259 0.48836299 0.72133328 1.        ]\n",
      " [0.13765799 0.36549874 0.55365739 0.77223935 1.        ]\n",
      " [0.11716478 0.24376241 0.49389893 0.77891468 1.        ]]\n"
     ]
    }
   ],
   "metadata": {}
  },
  {
   "cell_type": "markdown",
   "source": [
    "## Experiment 1\n",
    "* 10 steps\n",
    "* 1M scenarios\n",
    "\n",
    "Time taken: \n",
    "naive >> numpy > numba\n",
    "\n",
    "The numba verison is \n",
    "* over 50 time faster than the naive version\n",
    "* over 3 time faster than the **numpy** version"
   ],
   "metadata": {}
  },
  {
   "cell_type": "code",
   "execution_count": 16,
   "source": [
    "num_step = 10\n",
    "num_draw = 1000000\n",
    "\n",
    "# initialise\n",
    "v_init_state = np.random.randint(0, num_state, num_draw)\n",
    "v_draw = np.random.uniform(0.0, 1.0, num_draw)\n",
    "\n",
    "# simulation: naive\n",
    "t0 = time.time()\n",
    "v_next_naive = v_init_state.copy()\n",
    "for n in range(num_step):\n",
    "    v_next_naive = markov_chain_simulation_naive(v_next_naive, v_draw, mtx_CPT0)\n",
    "print('naive: ' + str(time.time() - t0) + ' seconds')\n",
    "\n",
    "# simulation: numba\n",
    "t0 = time.time()\n",
    "v_next_nb = v_init_state.copy()\n",
    "for n in range(num_step):\n",
    "    v_next_nb = markov_chain_simulation_nb(v_next_nb, v_draw, mtx_CPT0)\n",
    "print('numba: ' + str(time.time() - t0) + ' seconds')\n",
    "\n",
    "# simulation: numpy\n",
    "t0 = time.time()\n",
    "v_next_np = v_init_state.copy()\n",
    "for n in range(num_step):\n",
    "    v_next_np = markov_chain_simulation_np(v_next_np, v_draw, mtx_CPT0)\n",
    "print('numpy: ' + str(time.time() - t0) + ' seconds')\n",
    "\n",
    "print('result check: is naive equal to numba?', np.array_equal(v_next_naive, v_next_nb))\n",
    "print('result check: is naive equal to numpy?', np.array_equal(v_next_naive, v_next_np))"
   ],
   "outputs": [
    {
     "output_type": "stream",
     "name": "stdout",
     "text": [
      "naive: 7.585155248641968 seconds\n",
      "numba: 0.11918163299560547 seconds\n",
      "numpy: 0.39585041999816895 seconds\n",
      "result check: is naive equal to numba? True\n",
      "result check: is naive equal to numpy? True\n"
     ]
    }
   ],
   "metadata": {}
  },
  {
   "cell_type": "markdown",
   "source": [
    "## Experiment 2\n",
    "* 10 steps\n",
    "* 10M scenarios (10 times of experiment 1)\n",
    "* only numpy and numba\n",
    "\n",
    "Again, the numba verison is over 3 time faster than the **numpy** version"
   ],
   "metadata": {}
  },
  {
   "cell_type": "code",
   "execution_count": 18,
   "source": [
    "num_draw = 10000000\n",
    "v_init_state = np.random.randint(0, num_state, num_draw)\n",
    "v_draw = np.random.uniform(0.0, 1.0, num_draw)\n",
    "\n",
    "# simulation: numba\n",
    "t0 = time.time()\n",
    "v_next_nb = v_init_state.copy()\n",
    "for n in range(num_step):\n",
    "    v_next_nb = markov_chain_simulation_nb(v_next_nb, v_draw, mtx_CPT0)\n",
    "print('numba: ' + str(time.time() - t0) + ' seconds')\n",
    "\n",
    "# simulation: numpy\n",
    "t0 = time.time()\n",
    "v_next_np = v_init_state.copy()\n",
    "for n in range(num_step):\n",
    "    v_next_np = markov_chain_simulation_np(v_next_np, v_draw, mtx_CPT0)\n",
    "print('numpy: ' + str(time.time() - t0) + ' seconds')\n",
    "\n",
    "print('result check: is numpy equal to numba?', np.array_equal(v_next_np, v_next_nb))"
   ],
   "outputs": [
    {
     "output_type": "stream",
     "name": "stdout",
     "text": [
      "numba: 1.3647716045379639 seconds\n",
      "numpy: 3.9955391883850098 seconds\n",
      "result check: is numpy equal to numba? True\n"
     ]
    }
   ],
   "metadata": {}
  },
  {
   "cell_type": "code",
   "execution_count": null,
   "source": [],
   "outputs": [],
   "metadata": {}
  }
 ],
 "metadata": {
  "orig_nbformat": 4,
  "language_info": {
   "name": "python",
   "version": "3.7.6",
   "mimetype": "text/x-python",
   "codemirror_mode": {
    "name": "ipython",
    "version": 3
   },
   "pygments_lexer": "ipython3",
   "nbconvert_exporter": "python",
   "file_extension": ".py"
  },
  "kernelspec": {
   "name": "python3",
   "display_name": "Python 3.7.6 64-bit ('anylox': conda)"
  },
  "interpreter": {
   "hash": "533ad712b5ec83e15c3e64ecb4416c59d068ba5a339c8373c49c454e5659296e"
  }
 },
 "nbformat": 4,
 "nbformat_minor": 2
}