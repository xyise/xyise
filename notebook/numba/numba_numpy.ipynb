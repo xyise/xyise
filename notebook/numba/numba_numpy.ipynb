{
 "cells": [
  {
   "cell_type": "code",
   "execution_count": 1,
   "metadata": {},
   "outputs": [],
   "source": [
    "from numba import njit\n",
    "import numpy as np\n",
    "import pandas as pd\n",
    "import matplotlib.pyplot as plt\n",
    "import time\n",
    "from numba_func import *"
   ]
  },
  {
   "cell_type": "markdown",
   "metadata": {},
   "source": [
    "# Numba can beat Numpy\n",
    "\n",
    "**still easy to read and short enough**\n",
    "\n",
    "***Illustrative example using a markov chain.***\n",
    "\n",
    "![markov chain: cheese lettuce grapes, from Wiki](https://upload.wikimedia.org/wikipedia/commons/f/f2/Markov-cheese-lettuce-grapes.svg)\\\n",
    "Source: [Wikipedia](https://en.wikipedia.org/wiki/Markov_chain)\n",
    "\n",
    "A (discrete-time) markov chain is a stochastic model with many real life applications. See the relevant [Wikipedia](https://en.wikipedia.org/wiki/Markov_chain) page for more information. The model is described in terms of\n",
    "* a finite set of states\n",
    "* transition probabilities from one state to another state\n",
    "\n",
    "To simulate a markov chain, \n",
    "* set the intial state\n",
    "* draw a uniform random number between 0 and 1\n",
    "* compare to the cumulative transition probabilities to determine the next state\n",
    "* repeat"
   ]
  },
  {
   "cell_type": "markdown",
   "metadata": {},
   "source": [
    "## markov chain simulation function\n",
    "\n",
    "### three versions\n",
    "1. Native Python\n",
    "1. Native Python with numby (via njit)\n",
    "1. Numpy implementation\n",
    "\n",
    "Notes:\n",
    "* All functions have the same arguments\n",
    "* In the first two functions, we use a digitize function for scalar, which is compiled via numba. (see numba_func.py)\n",
    "* In this case, the numba implementation is as easy to read and as short as the numpy implementation!"
   ]
  },
  {
   "cell_type": "code",
   "execution_count": 2,
   "metadata": {},
   "outputs": [],
   "source": [
    "# Nativa Python version\n",
    "def markov_chain_simulation_naive(v_curr_state, v_draw, mtx_CTP0):\n",
    "    \"\"\"Markov chain simulation\n",
    "\n",
    "    Args:\n",
    "        v_curr_state (1-d numpy vector, integer): vector of current states\n",
    "        v_draw (1-d numpy vector, float): vector of uniform random numbers between 0 and 1\n",
    "        mtx_CTP0 (1-d numpy matrix, float): cumulative transition probability matrix without the last column (which consists of ones by definition)\n",
    "\n",
    "    Returns:\n",
    "        1-d numpy vector, integer: vector of next states\n",
    "    \"\"\"\n",
    "\n",
    "    v_next_state = np.empty_like(v_curr_state)\n",
    "    for n in range(v_next_state.size):\n",
    "        curr_s = v_curr_state[n]\n",
    "        v_next_state[n] = digitize_scalar_nb(v_draw[n], mtx_CTP0[curr_s])\n",
    "    \n",
    "    return v_next_state\n",
    "\n",
    "# Nativa Python version (identical to above), numba'ed\n",
    "@njit(fastmath=True, cache=True)\n",
    "def markov_chain_simulation_nb(v_curr_state, v_draw, mtx_CTP0):\n",
    "    v_next_state = np.empty_like(v_curr_state)\n",
    "    for n in range(v_next_state.size):\n",
    "        curr_s = v_curr_state[n]\n",
    "        v_next_state[n] = digitize_scalar_nb(v_draw[n], mtx_CTP0[curr_s])\n",
    "    return v_next_state\n",
    "\n",
    "# call the above function, so that it is compiled and cached before running the benchmark runs below\n",
    "markov_chain_simulation_nb(np.zeros(1, dtype=np.int64), np.zeros(1), np.array([[0.2]]))\n",
    "\n",
    "# Numpy implementation\n",
    "def markov_chain_simulation_np(v_curr_state, v_draw, mtx_CTP0):\n",
    "    v_next_state = np.empty_like(v_curr_state)\n",
    "    for s in range(0, mtx_CTP0.shape[0]):\n",
    "        mask = v_curr_state == s\n",
    "        v_next_state[mask] = np.digitize(v_draw[mask], mtx_CTP0[s])\n",
    "    return v_next_state"
   ]
  },
  {
   "cell_type": "markdown",
   "metadata": {},
   "source": [
    "## Transition Probability Matrix\n",
    "\n",
    "* create a transition probability matrix using random numbers\n",
    "* normalise each row to add up to one. \n",
    "* calculate the cumulative probability matrix. The last column, which consists of ones by definition, should be removed. "
   ]
  },
  {
   "cell_type": "code",
   "execution_count": 3,
   "metadata": {},
   "outputs": [
    {
     "name": "stdout",
     "output_type": "stream",
     "text": [
      "Transition Matrix\n",
      "[[0.25534887 0.15964894 0.16454582 0.12636773 0.29408864]\n",
      " [0.08057617 0.31494639 0.028515   0.26061218 0.31535026]\n",
      " [0.22991893 0.30245643 0.15604364 0.05521039 0.2563706 ]\n",
      " [0.41172232 0.39250069 0.0516786  0.03905822 0.10504018]\n",
      " [0.41739349 0.23621923 0.09312312 0.15768394 0.09558022]]\n",
      "Cumulative Transition Matrix\n",
      "[[0.25534887 0.41499781 0.57954363 0.70591136 1.        ]\n",
      " [0.08057617 0.39552256 0.42403756 0.68464974 1.        ]\n",
      " [0.22991893 0.53237537 0.68841901 0.7436294  1.        ]\n",
      " [0.41172232 0.80422301 0.85590161 0.89495982 1.        ]\n",
      " [0.41739349 0.65361272 0.74673584 0.90441978 1.        ]]\n"
     ]
    }
   ],
   "source": [
    "# number of states\n",
    "num_state = 5\n",
    "\n",
    "# define transition probability matrix\n",
    "mtx_TP = np.random.uniform(0.0, 1.0, (num_state, num_state))\n",
    "mtx_TP /= np.sum(mtx_TP, axis=1, keepdims=True)\n",
    "\n",
    "# cumulative transition probability matrix\n",
    "mtx_CPT = np.cumsum(mtx_TP, axis=1)\n",
    "mtx_CPT0 = mtx_CPT[:,:-1]\n",
    "\n",
    "print('Transition Matrix')\n",
    "print(mtx_TP)\n",
    "print('Cumulative Transition Matrix')\n",
    "print(mtx_CPT)"
   ]
  },
  {
   "cell_type": "markdown",
   "metadata": {},
   "source": [
    "## Experiment 1\n",
    "* 10 steps\n",
    "* 1M scenarios\n",
    "\n",
    "Time taken: \n",
    "naive >> numpy > numba\n",
    "\n",
    "The numba verison is \n",
    "* over 50 time faster than the naive version\n",
    "* over 3 time faster than the **numpy** version"
   ]
  },
  {
   "cell_type": "code",
   "execution_count": 4,
   "metadata": {},
   "outputs": [
    {
     "name": "stdout",
     "output_type": "stream",
     "text": [
      "naive: 6.467168569564819 seconds\n",
      "numba: 0.11313772201538086 seconds\n",
      "numpy: 0.42485690116882324 seconds\n",
      "result check: is naive equal to numba? True\n",
      "result check: is naive equal to numpy? True\n"
     ]
    }
   ],
   "source": [
    "num_step = 10\n",
    "seed = 1234\n",
    "\n",
    "num_draw = 1000000\n",
    "\n",
    "# initialise\n",
    "v_init_state = np.random.randint(0, num_state, num_draw)\n",
    "\n",
    "# simulation: naive\n",
    "rng = np.random.default_rng(seed)\n",
    "td = 0.0\n",
    "v_next_naive = v_init_state.copy()\n",
    "for n in range(num_step):\n",
    "    v_draw = rng.uniform(0.0, 1.0, num_draw)\n",
    "    t0 = time.time()\n",
    "    v_next_naive = markov_chain_simulation_naive(v_next_naive, v_draw, mtx_CPT0)\n",
    "    td += time.time() - t0\n",
    "print('naive: ' + str(td) + ' seconds')\n",
    "\n",
    "# simulation: numba\n",
    "rng = np.random.default_rng(seed)\n",
    "td = 0.0\n",
    "v_next_nb = v_init_state.copy()\n",
    "for n in range(num_step):\n",
    "    v_draw = rng.uniform(0.0, 1.0, num_draw)\n",
    "    t0 = time.time()\n",
    "    v_next_nb = markov_chain_simulation_nb(v_next_nb, v_draw, mtx_CPT0)\n",
    "    td += time.time() - t0\n",
    "print('numba: ' + str(td) + ' seconds')\n",
    "\n",
    "# simulation: numpy\n",
    "rng = np.random.default_rng(seed)\n",
    "td = 0.0\n",
    "v_next_np = v_init_state.copy()\n",
    "for n in range(num_step):\n",
    "    v_draw = rng.uniform(0.0, 1.0, num_draw)\n",
    "    t0 = time.time()\n",
    "    v_next_np = markov_chain_simulation_np(v_next_np, v_draw, mtx_CPT0)\n",
    "    td += time.time() - t0\n",
    "print('numpy: ' + str(td) + ' seconds')\n",
    "\n",
    "print('result check: is naive equal to numba?', np.array_equal(v_next_naive, v_next_nb))\n",
    "print('result check: is naive equal to numpy?', np.array_equal(v_next_naive, v_next_np))"
   ]
  },
  {
   "cell_type": "markdown",
   "metadata": {},
   "source": [
    "## Experiment 2\n",
    "* 10 steps\n",
    "* 10M scenarios (10 times of experiment 1)\n",
    "* only numpy and numba\n",
    "\n",
    "Again, the numba verison is over 3 time faster than the **numpy** version"
   ]
  },
  {
   "cell_type": "code",
   "execution_count": 5,
   "metadata": {},
   "outputs": [
    {
     "name": "stdout",
     "output_type": "stream",
     "text": [
      "numba: 1.2592637538909912 seconds\n",
      "numpy: 4.135331153869629 seconds\n",
      "result check: is numpy equal to numba? True\n"
     ]
    }
   ],
   "source": [
    "num_draw = 10000000\n",
    "v_init_state = np.random.randint(0, num_state, num_draw)\n",
    "\n",
    "# simulation: numba\n",
    "rng = np.random.default_rng(seed)\n",
    "td = 0.0\n",
    "v_next_nb = v_init_state.copy()\n",
    "for n in range(num_step):\n",
    "    v_draw = rng.uniform(0.0, 1.0, num_draw)\n",
    "    t0 = time.time()\n",
    "    v_next_nb = markov_chain_simulation_nb(v_next_nb, v_draw, mtx_CPT0)\n",
    "    td += time.time() - t0\n",
    "print('numba: ' + str(td) + ' seconds')\n",
    "\n",
    "# simulation: numpy\n",
    "rng = np.random.default_rng(seed)\n",
    "td = 0.0\n",
    "v_next_np = v_init_state.copy()\n",
    "for n in range(num_step):\n",
    "    v_draw = rng.uniform(0.0, 1.0, num_draw)\n",
    "    t0 = time.time()\n",
    "    v_next_np = markov_chain_simulation_np(v_next_np, v_draw, mtx_CPT0)\n",
    "    td += time.time() - t0\n",
    "print('numpy: ' + str(td) + ' seconds')\n",
    "\n",
    "print('result check: is numpy equal to numba?', np.array_equal(v_next_np, v_next_nb))"
   ]
  },
  {
   "cell_type": "markdown",
   "metadata": {},
   "source": [
    "# Plot some paths"
   ]
  },
  {
   "cell_type": "code",
   "execution_count": 6,
   "metadata": {},
   "outputs": [],
   "source": [
    "num_draw = 7\n",
    "v_init_state = np.random.randint(0, num_state, num_draw)\n",
    "\n",
    "# simulation: numba\n",
    "rng = np.random.default_rng(seed)\n",
    "l_state = []\n",
    "v_next_nb = v_init_state.copy()\n",
    "l_state.append(v_next_nb)\n",
    "for n in range(num_step):\n",
    "    v_draw = rng.uniform(0.0, 1.0, num_draw)\n",
    "    v_next_nb = markov_chain_simulation_nb(v_next_nb, v_draw, mtx_CPT0)\n",
    "    l_state.append(v_next_nb)\n",
    "\n",
    "mtx_state = np.array(l_state)\n"
   ]
  },
  {
   "cell_type": "code",
   "execution_count": 14,
   "metadata": {},
   "outputs": [
    {
     "data": {
      "image/png": "[encoded data removed]",
      "text/plain": [
       "<Figure size 600x400 with 1 Axes>"
      ]
     },
     "metadata": {},
     "output_type": "display_data"
    }
   ],
   "source": [
    "plt.figure(figsize=(6,4))\n",
    "plt.plot(range(num_step+1), mtx_state[:,:3], ':o', lw=0.5)\n",
    "plt.xlabel('time step')\n",
    "plt.yticks(range(num_state), [str(s) for s in range(num_state)])\n",
    "plt.savefig('sample-paths.png')\n",
    "plt.show()"
   ]
  },
  {
   "cell_type": "code",
   "execution_count": null,
   "metadata": {},
   "outputs": [],
   "source": []
  }
 ],
 "metadata": {
  "interpreter": {
   "hash": "533ad712b5ec83e15c3e64ecb4416c59d068ba5a339c8373c49c454e5659296e"
  },
  "kernelspec": {
   "display_name": "Python 3",
   "language": "python",
   "name": "python3"
  },
  "language_info": {
   "codemirror_mode": {
    "name": "ipython",
    "version": 3
   },
   "file_extension": ".py",
   "mimetype": "text/x-python",
   "name": "python",
   "nbconvert_exporter": "python",
   "pygments_lexer": "ipython3",
   "version": "3.7.6"
  }
 },
 "nbformat": 4,
 "nbformat_minor": 4
}
