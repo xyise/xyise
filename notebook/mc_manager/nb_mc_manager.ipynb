{
 "metadata": {
  "language_info": {
   "codemirror_mode": {
    "name": "ipython",
    "version": 3
   },
   "file_extension": ".py",
   "mimetype": "text/x-python",
   "name": "python",
   "nbconvert_exporter": "python",
   "pygments_lexer": "ipython3",
   "version": "3.7.6-final"
  },
  "orig_nbformat": 2,
  "kernelspec": {
   "name": "python3",
   "display_name": "Python 3",
   "language": "python"
  }
 },
 "nbformat": 4,
 "nbformat_minor": 2,
 "cells": [
  {
   "cell_type": "code",
   "execution_count": 1,
   "metadata": {},
   "outputs": [],
   "source": [
    "import os\n",
    "import sys\n",
    "import numpy as np\n",
    "\n",
    "from mc_manager import *\n",
    "\n",
    "%load_ext autoreload\n",
    "%autoreload 2\n",
    "\n",
    "#import ptvsd\n",
    "#ptvsd.enable_attach()"
   ]
  },
  {
   "cell_type": "code",
   "execution_count": 2,
   "metadata": {},
   "outputs": [],
   "source": [
    "num_scens = 1000000\n",
    "num_scens_for = num_scens"
   ]
  },
  {
   "cell_type": "code",
   "execution_count": 3,
   "metadata": {},
   "outputs": [],
   "source": [
    "ss = SeedSequence(123456)\n",
    "base_bit_gen = np.random.PCG64(ss)"
   ]
  },
  {
   "cell_type": "code",
   "execution_count": 4,
   "metadata": {},
   "outputs": [],
   "source": [
    "kw_cn = dict(zip([chr(o) for o in range(65, 65 + 26)] + [chr(o) for o in range(48, 48 + 10)], [o for o in range(0, 65 + 48)]))\n",
    "kw_nc = {kw_cn[k]:k for k in kw_cn}"
   ]
  },
  {
   "cell_type": "code",
   "execution_count": 5,
   "metadata": {},
   "outputs": [],
   "source": [
    "def word_to_int(word):\n",
    "    base = len(kw_cn)\n",
    "    W = word.upper()\n",
    "    n = 0\n",
    "    ord = 1\n",
    "    for i, c in enumerate(W):\n",
    "        n += kw_cn[c] * ord\n",
    "        ord *= base\n",
    "\n",
    "    return n"
   ]
  },
  {
   "cell_type": "code",
   "execution_count": 6,
   "metadata": {},
   "outputs": [],
   "source": [
    "b = len(kw_cn)\n",
    "num_ids = 100\n",
    "ids_random = [''.join([kw_nc[o] for o in np.random.randint(0, b, 12)]) for id in range(num_ids)]\n",
    "ids = set(ids_random)"
   ]
  },
  {
   "cell_type": "code",
   "execution_count": 7,
   "metadata": {},
   "outputs": [],
   "source": [
    "ids_num = {id:word_to_int(id) for id in ids}"
   ]
  },
  {
   "cell_type": "code",
   "execution_count": 8,
   "metadata": {},
   "outputs": [],
   "source": [
    "ss = SeedSequence(123456)\n",
    "\n",
    "base_bit_gen = np.random.PCG64(ss)\n",
    "rn_locs = ids_num\n",
    "mcm = MonteCarloManager(base_bit_gen, num_scens, rn_locs)\n",
    "kw_res = {}\n",
    "n_s_b = [num_scens_for] * int(num_scens / num_scens_for)\n",
    "for b in range(len(n_s_b)):\n",
    "    n_scen_b = n_s_b[b]\n",
    "\n",
    "    rn_shuffled = list(rn_locs.keys())\n",
    "    np.random.shuffle(rn_shuffled)\n",
    "\n",
    "    for rn in rn_shuffled:\n",
    "        if b == 0:\n",
    "            kw_res[rn] = []\n",
    "        rng_rn = mcm.get_rng(rn)\n",
    "        #rx = rng_rn.standard_normal(n_scen_b)\n",
    "        #kw_res[rn].append(rx)\n",
    "\n",
    "#for k in kw_res:\n",
    "#    kw_res[k] = np.hstack(kw_res[k])"
   ]
  },
  {
   "cell_type": "code",
   "execution_count": 9,
   "metadata": {},
   "outputs": [],
   "source": [
    "id = [k for k,v in rn_locs.items()][10]"
   ]
  },
  {
   "cell_type": "code",
   "execution_count": 10,
   "metadata": {},
   "outputs": [],
   "source": [
    "mcm = MonteCarloManager(base_bit_gen, num_scens, rn_locs)"
   ]
  },
  {
   "cell_type": "code",
   "execution_count": 11,
   "metadata": {},
   "outputs": [],
   "source": [
    "kw_rng = {id:mcm.get_rng(id) for id in rn_locs}"
   ]
  },
  {
   "cell_type": "code",
   "execution_count": 12,
   "metadata": {},
   "outputs": [],
   "source": [
    "for rn in rn_locs:\n",
    "    if kw_rng[rn].bit_generator.state['state']['state'] != mcm.rn_states[rn]['state']['state']:\n",
    "        print('wrong')"
   ]
  },
  {
   "cell_type": "code",
   "execution_count": 13,
   "metadata": {},
   "outputs": [
    {
     "output_type": "error",
     "ename": "NameError",
     "evalue": "name 'base_state' is not defined",
     "traceback": [
      "\u001b[0;31m---------------------------------------------------------------------------\u001b[0m",
      "\u001b[0;31mNameError\u001b[0m                                 Traceback (most recent call last)",
      "\u001b[0;32m<ipython-input-13-681aea0bfad5>\u001b[0m in \u001b[0;36m<module>\u001b[0;34m\u001b[0m\n\u001b[0;32m----> 1\u001b[0;31m \u001b[0mbase_bit_gen\u001b[0m\u001b[0;34m.\u001b[0m\u001b[0mstate\u001b[0m \u001b[0;34m=\u001b[0m \u001b[0mbase_state\u001b[0m\u001b[0;34m.\u001b[0m\u001b[0mcopy\u001b[0m\u001b[0;34m(\u001b[0m\u001b[0;34m)\u001b[0m\u001b[0;34m\u001b[0m\u001b[0;34m\u001b[0m\u001b[0m\n\u001b[0m\u001b[1;32m      2\u001b[0m \u001b[0mbase_bit_gen\u001b[0m\u001b[0;34m.\u001b[0m\u001b[0mstate\u001b[0m\u001b[0;34m\u001b[0m\u001b[0;34m\u001b[0m\u001b[0m\n",
      "\u001b[0;31mNameError\u001b[0m: name 'base_state' is not defined"
     ]
    }
   ],
   "source": [
    "base_bit_gen.state = base_state.copy()\n",
    "base_bit_gen.state"
   ]
  },
  {
   "cell_type": "code",
   "execution_count": 215,
   "metadata": {},
   "outputs": [
    {
     "output_type": "execute_result",
     "data": {
      "text/plain": [
       "{'bit_generator': 'PCG64',\n",
       " 'state': {'state': 122802387724230477326009044914810002453,\n",
       "  'inc': 86625949289666656544807559270110712949},\n",
       " 'has_uint32': 0,\n",
       " 'uinteger': 0}"
      ]
     },
     "metadata": {},
     "execution_count": 215
    }
   ],
   "source": [
    "base_bit_gen.advance(200000)\n",
    "base_bit_gen.state"
   ]
  },
  {
   "cell_type": "code",
   "execution_count": 131,
   "metadata": {},
   "outputs": [
    {
     "output_type": "execute_result",
     "data": {
      "text/plain": [
       "{'bit_generator': 'PCG64',\n",
       " 'state': {'state': 70229627232042977131205751592010250157,\n",
       "  'inc': 86625949289666656544807559270110712949},\n",
       " 'has_uint32': 0,\n",
       " 'uinteger': 0}"
      ]
     },
     "metadata": {},
     "execution_count": 131
    }
   ],
   "source": [
    "x"
   ]
  },
  {
   "cell_type": "code",
   "execution_count": 132,
   "metadata": {},
   "outputs": [
    {
     "output_type": "execute_result",
     "data": {
      "text/plain": [
       "<numpy.random._pcg64.PCG64 at 0x7fa750462950>"
      ]
     },
     "metadata": {},
     "execution_count": 132
    }
   ],
   "source": [
    "base_bit_gen.advance(1000)"
   ]
  },
  {
   "cell_type": "code",
   "execution_count": 133,
   "metadata": {},
   "outputs": [
    {
     "output_type": "execute_result",
     "data": {
      "text/plain": [
       "{'bit_generator': 'PCG64',\n",
       " 'state': {'state': 220184001340893466709290982200891877893,\n",
       "  'inc': 86625949289666656544807559270110712949},\n",
       " 'has_uint32': 0,\n",
       " 'uinteger': 0}"
      ]
     },
     "metadata": {},
     "execution_count": 133
    }
   ],
   "source": [
    "base_bit_gen.state"
   ]
  },
  {
   "cell_type": "code",
   "execution_count": 134,
   "metadata": {},
   "outputs": [
    {
     "output_type": "execute_result",
     "data": {
      "text/plain": [
       "{'bit_generator': 'PCG64',\n",
       " 'state': {'state': 70229627232042977131205751592010250157,\n",
       "  'inc': 86625949289666656544807559270110712949},\n",
       " 'has_uint32': 0,\n",
       " 'uinteger': 0}"
      ]
     },
     "metadata": {},
     "execution_count": 134
    }
   ],
   "source": [
    "x"
   ]
  },
  {
   "cell_type": "code",
   "execution_count": null,
   "metadata": {},
   "outputs": [],
   "source": []
  }
 ]
}