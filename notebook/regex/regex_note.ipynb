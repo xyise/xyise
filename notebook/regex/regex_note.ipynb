{
 "cells": [
  {
   "cell_type": "code",
   "execution_count": 12,
   "metadata": {},
   "outputs": [],
   "source": [
    "from IPython.display import Markdown, display\n",
    "import re"
   ]
  },
  {
   "cell_type": "markdown",
   "metadata": {},
   "source": [
    "# Introduction\n",
    "\n",
    "## Reference\n",
    "This notebook follows the examples and explanations in \n",
    "Chapter 2 of Speech and Language Processing by Jurafsky and Martin [here](https://web.stanford.edu/~jurafsky/slp3/2.pdf)"
   ]
  },
  {
   "cell_type": "markdown",
   "metadata": {},
   "source": [
    "## Basic Usages"
   ]
  },
  {
   "cell_type": "code",
   "execution_count": 16,
   "metadata": {},
   "outputs": [
    {
     "data": {
      "text/markdown": [
       "where is **searchme**, find it."
      ],
      "text/plain": [
       "<IPython.core.display.Markdown object>"
      ]
     },
     "metadata": {},
     "output_type": "display_data"
    }
   ],
   "source": [
    "# re.match() searches from the beginning\n",
    "# re.search(): search anywhere\n",
    "pattern = 'searchme'\n",
    "s = 'where is searchme, find it.'\n",
    "r = re.search(pattern, s)\n",
    "display(Markdown(s[:r.start()] + '**' + s[r.start():r.end()] + '**' + s[r.end():]))"
   ]
  },
  {
   "cell_type": "markdown",
   "metadata": {},
   "source": [
    "## Display\n",
    "* For each example, the pattern, the string to search and the matching part (if any) are displayed using the function below.\n",
    "* The matching part is surrounded by / "
   ]
  },
  {
   "cell_type": "code",
   "execution_count": 89,
   "metadata": {},
   "outputs": [],
   "source": [
    "def search_print(pattern: str, comment: str, string: str):\n",
    "    print(pattern, ':', comment)\n",
    "\n",
    "    r = re.search(pattern, string)\n",
    "    if r is None:\n",
    "        print('\\t' + string + ' : no match')\n",
    "    else:\n",
    "        s = string\n",
    "        print('\\t' + string + ' : ' + s[:r.start()] + '/' + s[r.start():r.end()] + '/' + s[r.end():])"
   ]
  },
  {
   "cell_type": "markdown",
   "metadata": {},
   "source": [
    "# Basic"
   ]
  },
  {
   "cell_type": "markdown",
   "metadata": {},
   "source": [
    "## concatenation\n",
    "just a sequence of *simple* characters"
   ]
  },
  {
   "cell_type": "code",
   "execution_count": 91,
   "metadata": {},
   "outputs": [
    {
     "name": "stdout",
     "output_type": "stream",
     "text": [
      "woodchucks : matches woodchucks\n",
      "\tintersting links to woodchucks and lemurs : intersting links to /woodchucks/ and lemurs\n",
      "a : matched a\n",
      "\tMary : M/a/ry\n",
      "! : matches !\n",
      "\tAgain! : Again/!/\n",
      "woodchuck : to Woodchucks and\n",
      "\tcase sensitive : no match\n"
     ]
    }
   ],
   "source": [
    "search_print('woodchucks', 'matches woodchucks', 'intersting links to woodchucks and lemurs')\n",
    "search_print('a', 'matched a', 'Mary')\n",
    "search_print('!', 'matches !', 'Again!')\n",
    "\n",
    "# case sensitive\n",
    "search_print('woodchuck', 'to Woodchucks and', 'case sensitive')"
   ]
  },
  {
   "cell_type": "markdown",
   "metadata": {},
   "source": [
    "## disjunction: []\n",
    "For 'OR'"
   ]
  },
  {
   "cell_type": "code",
   "execution_count": 92,
   "metadata": {},
   "outputs": [
    {
     "name": "stdout",
     "output_type": "stream",
     "text": [
      "[wW]oodchuck : Woodchuck or woodchuck\n",
      "\tto Woodchuck and : to /Woodchuck/ and\n",
      "[abc] : a, b, or c\n",
      "\tin soldati : in sold/a/ti\n",
      "[1234567890] : any digit\n",
      "\tplenty of 7 to 5 : plenty of /7/ to 5\n"
     ]
    }
   ],
   "source": [
    "search_print('[wW]oodchuck', 'Woodchuck or woodchuck', 'to Woodchuck and')\n",
    "search_print('[abc]', 'a, b, or c', 'in soldati')\n",
    "search_print('[1234567890]', 'any digit', 'plenty of 7 to 5')"
   ]
  },
  {
   "cell_type": "markdown",
   "metadata": {},
   "source": [
    "## Range: [ - ]\n",
    "Use '-' within square braces"
   ]
  },
  {
   "cell_type": "code",
   "execution_count": 93,
   "metadata": {},
   "outputs": [
    {
     "name": "stdout",
     "output_type": "stream",
     "text": [
      "[A-Z] : upper case letter\n",
      "\twe Shall : we /S/hall\n",
      "[a-z] : lower case letter\n",
      "\tmy beans : /m/y beans\n",
      "[0-9] : single digit\n",
      "\tChapter 1, Down... : Chapter /1/, Down...\n"
     ]
    }
   ],
   "source": [
    "search_print('[A-Z]', 'upper case letter', 'we Shall', )\n",
    "search_print('[a-z]', 'lower case letter', 'my beans')\n",
    "search_print('[0-9]', 'single digit', 'Chapter 1, Down...')"
   ]
  },
  {
   "cell_type": "markdown",
   "metadata": {},
   "source": [
    "## negation\n",
    "use caret ^\n",
    "* **only** if appears as the **first symbol** after the **open square brace**.\n",
    "* otherwise, it means ^. In Python, looks like we need a backslash \\"
   ]
  },
  {
   "cell_type": "code",
   "execution_count": 98,
   "metadata": {},
   "outputs": [
    {
     "name": "stdout",
     "output_type": "stream",
     "text": [
      "[^A-Z] : not an upper case letter\n",
      "\tOyfn pr : O/y/fn pr\n",
      "[^Ss] : neither S nor s\n",
      "\tI have no : /I/ have no\n",
      "[^.] : not a period\n",
      "\tour re : /o/ur re\n",
      "[e^] : either e or ^\n",
      "\tlook up ^ now : look up /^/ now\n",
      "[a^b] : supposedly, patter a^b. But, looks like a or b in Python.\n",
      "\tlook up a^b now : look up /a/^b now\n",
      "[a\\^b] : pattern a^b (works with Python)\n",
      "\tlook up a^b now : look up /a/^b now\n"
     ]
    }
   ],
   "source": [
    "search_print('[^A-Z]', 'not an upper case letter', 'Oyfn pr')\n",
    "search_print('[^Ss]', 'neither S nor s', 'I have no')\n",
    "search_print('[^.]', 'not a period', 'our re')\n",
    "search_print('[e^]', 'either e or ^', 'look up ^ now')\n",
    "search_print('[a^b]', 'supposedly, patter a^b. But, looks like a or b in Python.', 'look up a^b now')\n",
    "search_print('[a\\^b]', 'pattern a^b (works with Python)', 'look up a^b now')"
   ]
  },
  {
   "cell_type": "markdown",
   "metadata": {},
   "source": [
    "## Optional: ? \n",
    "?: the preceding character or nothing. i.e. zero or one instances of the previous character"
   ]
  },
  {
   "cell_type": "code",
   "execution_count": 96,
   "metadata": {},
   "outputs": [
    {
     "name": "stdout",
     "output_type": "stream",
     "text": [
      "woodchucks? : woodchuck or woodchucks\n",
      "\twoodchuck : /woodchuck/\n",
      "colou?r : color or colour\n",
      "\tcolor : /color/\n"
     ]
    }
   ],
   "source": [
    "search_print('woodchucks?', 'woodchuck or woodchucks', 'woodchuck')\n",
    "search_print('colou?r', 'color or colour', 'color')"
   ]
  },
  {
   "cell_type": "markdown",
   "metadata": {},
   "source": [
    "## Kleen *\n",
    "**zero** or **more** occurrences of the immediately previous character or regular expression"
   ]
  },
  {
   "cell_type": "code",
   "execution_count": 108,
   "metadata": {},
   "outputs": [
    {
     "name": "stdout",
     "output_type": "stream",
     "text": [
      "a* : a, aaa, bbb (as has zero a)\n",
      "\taa : /aa/\n",
      "a* : a, aaa, bbb (as has zero a)\n",
      "\tbbb : //bbb\n",
      "aa* : a followed by zero or more a's\n",
      "\tbaa! : b/aa/!\n",
      "[ab]* : zero or more a's or b's\n",
      "\tzooabab : //zooabab\n",
      "zoo[ab]* : zero or more a's or b's\n",
      "\tzooabab : /zooabab/\n",
      "[0-9][0-9]* : integer\n",
      "\tbd223bd : bd/223/bd\n"
     ]
    }
   ],
   "source": [
    "search_print('a*', 'a, aaa, bbb (as has zero a)', 'aa')\n",
    "search_print('a*', 'a, aaa, bbb (as has zero a)', 'bbb')\n",
    "search_print('aa*', \"a followed by zero or more a's\", 'baa!')\n",
    "search_print('[ab]*', \"zero or more a's or b's\", 'zooabab')\n",
    "search_print('zoo[ab]*', \"zero or more a's or b's\", 'zooabab')\n",
    "search_print('[0-9][0-9]*', 'integer', 'bd223bd')\n"
   ]
  },
  {
   "cell_type": "code",
   "execution_count": null,
   "metadata": {},
   "outputs": [],
   "source": []
  }
 ],
 "metadata": {
  "interpreter": {
   "hash": "5271a71b48930ead529db7c735368e43509f193fea3f0c5d53d1a898660899f5"
  },
  "kernelspec": {
   "display_name": "Python 3.7.11 ('anylox')",
   "language": "python",
   "name": "python3"
  },
  "language_info": {
   "codemirror_mode": {
    "name": "ipython",
    "version": 3
   },
   "file_extension": ".py",
   "mimetype": "text/x-python",
   "name": "python",
   "nbconvert_exporter": "python",
   "pygments_lexer": "ipython3",
   "version": "3.7.9"
  },
  "orig_nbformat": 4
 },
 "nbformat": 4,
 "nbformat_minor": 2
}
