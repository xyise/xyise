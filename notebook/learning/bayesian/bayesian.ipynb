{
 "cells": [
  {
   "cell_type": "code",
   "execution_count": 1,
   "metadata": {},
   "outputs": [],
   "source": [
    "import numpy as np\n",
    "import matplotlib.pyplot as plt\n"
   ]
  },
  {
   "cell_type": "code",
   "execution_count": 64,
   "metadata": {},
   "outputs": [
    {
     "data": {
      "text/plain": [
       "0.010000000000000002"
      ]
     },
     "execution_count": 64,
     "metadata": {},
     "output_type": "execute_result"
    }
   ],
   "source": [
    "0.1 ** 2"
   ]
  },
  {
   "cell_type": "code",
   "execution_count": 85,
   "metadata": {},
   "outputs": [],
   "source": [
    "# priors\n",
    "v_pr_y = np.linspace(0.0, 1.0, 10000)/1000\n",
    "pr_pos_y = 0.999\n",
    "\n",
    "def fn_pr_y(v_pr_y, sensitivity, specificity = None, rep = 1):\n",
    "    v_pr_n = 1 - v_pr_y\n",
    "\n",
    "    if specificity is None:\n",
    "        specificity = sensitivity\n",
    "        \n",
    "    pr_pos_y = sensitivity ** rep\n",
    "    pr_neg_y = 1 - pr_pos_y\n",
    "    pr_neg_n = 1 - (1 - specificity) ** rep\n",
    "    pr_pos_n = 1 - pr_neg_n\n",
    "\n",
    "    v_pr_y_pos = pr_pos_y * v_pr_y / (pr_pos_y * v_pr_y + pr_pos_n * v_pr_n)\n",
    "    v_pr_y_neg = pr_neg_y * v_pr_y / (pr_neg_y * v_pr_y + pr_neg_n * v_pr_n)\n",
    "\n",
    "    return v_pr_y_pos, v_pr_y_neg\n",
    "\n"
   ]
  },
  {
   "cell_type": "code",
   "execution_count": 86,
   "metadata": {},
   "outputs": [
    {
     "data": {
      "image/png": "[encoded data removed]",
      "text/plain": [
       "<Figure size 720x288 with 2 Axes>"
      ]
     },
     "metadata": {
      "needs_background": "light"
     },
     "output_type": "display_data"
    }
   ],
   "source": [
    "plt.figure(figsize=(10,4))\n",
    "l_ss = [[0.99,None], [0.999,None]]\n",
    "plt.subplot(1,2,1)\n",
    "for sens,spec in l_ss:\n",
    "    v_pr_i_pos, v_pr_i_neg = fn_pr_y(v_pr_y, sens, spec, rep = 1)\n",
    "    plt.plot(v_pr_y, v_pr_i_pos, label='sensitivity: ' + str(100*sens) + '%')\n",
    "    #plt.plot(v_pr_i, v_pr_i_neg, label='sensitivity: ' + str(100*pr_pos_i) + ', $P(I|-)$')\n",
    "plt.xlabel('$P(Y)$')\n",
    "plt.ylabel('posterior probability: $P(Y|+)$')\n",
    "plt.ylim([-0.01, 1.1])\n",
    "plt.grid()\n",
    "plt.legend()\n",
    "plt.subplot(1,2,2)\n",
    "for pr_pos_i in l_ss:\n",
    "    v_pr_i_pos, v_pr_i_neg = fn_pr_y(v_pr_y, sens, spec, rep = 1)\n",
    "    #plt.plot(v_pr_i, v_pr_i_pos, label='sensitivity: ' + str(100*pr_pos_i) + '%')\n",
    "    plt.plot(v_pr_y, v_pr_i_neg, label='sensitivity: ' + str(100*sens) + '%')\n",
    "plt.xlabel('$P(Y)$')\n",
    "plt.ylabel('posterior probability: $P(Y|-)$')\n",
    "plt.ylim([-0.01, 1.1])\n",
    "plt.grid()\n",
    "plt.legend()\n",
    "plt.show()"
   ]
  },
  {
   "cell_type": "code",
   "execution_count": 76,
   "metadata": {},
   "outputs": [
    {
     "data": {
      "text/plain": [
       "0.0005"
      ]
     },
     "execution_count": 76,
     "metadata": {},
     "output_type": "execute_result"
    }
   ],
   "source": [
    "50 / 100000"
   ]
  },
  {
   "cell_type": "code",
   "execution_count": null,
   "metadata": {},
   "outputs": [],
   "source": []
  }
 ],
 "metadata": {
  "interpreter": {
   "hash": "5271a71b48930ead529db7c735368e43509f193fea3f0c5d53d1a898660899f5"
  },
  "kernelspec": {
   "display_name": "Python 3.7.6 64-bit ('anylox': conda)",
   "name": "python3"
  },
  "language_info": {
   "codemirror_mode": {
    "name": "ipython",
    "version": 3
   },
   "file_extension": ".py",
   "mimetype": "text/x-python",
   "name": "python",
   "nbconvert_exporter": "python",
   "pygments_lexer": "ipython3",
   "version": "3.7.6"
  },
  "orig_nbformat": 4
 },
 "nbformat": 4,
 "nbformat_minor": 2
}
