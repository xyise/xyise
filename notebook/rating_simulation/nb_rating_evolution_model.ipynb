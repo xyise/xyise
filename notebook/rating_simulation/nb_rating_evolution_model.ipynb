{
 "cells": [
  {
   "cell_type": "code",
   "execution_count": null,
   "metadata": {},
   "outputs": [],
   "source": [
    "import numpy as np\n",
    "import scipy.stats as ss\n",
    "import pandas as pd\n",
    "import matplotlib.pyplot as plt"
   ]
  },
  {
   "cell_type": "markdown",
   "metadata": {},
   "source": [
    "# Introduction\n",
    "\n",
    "Consider four different approaches to model rating evolutions over multiple periods. In particular, \n",
    "* The effect of the auto-regression is studied. \n",
    "* An incremental CWI approach is compared to a cumulative CWI approach. \n",
    "\n",
    "# Transition Matrix\n",
    "Let's assume that there are 4 rating states \\[0, 1, 2, 3\\]\n",
    "where \n",
    "* 0 is the best rating\n",
    "* 3 is the default state\n",
    "\n",
    "Let the following matrix $T$ is the transition matrix over a fixed period (e.g. 1-year)"
   ]
  },
  {
   "cell_type": "code",
   "execution_count": null,
   "metadata": {},
   "outputs": [],
   "source": [
    "# transtion matrix T\n",
    "mtx_T = np.array([\n",
    "    [0.6, 0.15, 0.15, 0.1], \n",
    "    [0.2, 0.5, 0.2, 0.1], \n",
    "    [0.05, 0.25, 0.5, 0.2], \n",
    "    [0.0, 0.0, 0.0, 1.0]])\n",
    "# define the rating groups\n",
    "v_ratings = np.arange(0, mtx_T.shape[0])\n",
    "print(mtx_T)"
   ]
  },
  {
   "cell_type": "markdown",
   "metadata": {},
   "source": [
    "Under the Markov assumptions, the transition matrix $T(0,n)$ over $n$ periods is given by\n",
    "$$ T(0, n) = T^n $$"
   ]
  },
  {
   "cell_type": "code",
   "execution_count": null,
   "metadata": {},
   "outputs": [],
   "source": [
    "def plot_rating_over_time(mtx_prob, v_t):\n",
    "    for r in range(mtx_prob.shape[1]):\n",
    "        plt.plot(v_t, mtx_prob[:,r], label = 'rating: ' + str(r))\n",
    "    plt.legend()\n",
    "    plt.xticks(v_t), plt.xlim([0, np.max(v_t)+1]), plt.ylim([-0.1, 1.1])\n",
    "    plt.xlabel('period'), plt.ylabel('probability')   "
   ]
  },
  {
   "cell_type": "code",
   "execution_count": null,
   "metadata": {},
   "outputs": [],
   "source": [
    "# calculate over next n periods\n",
    "n_periods = 10\n",
    "v_t = 1 + np.arange(n_periods)\n",
    "\n",
    "cb_T = [mtx_T]\n",
    "for n in range(1, n_periods):\n",
    "    cb_T.append(np.dot(cb_T[-1], mtx_T) )\n",
    "cb_T = np.array(cb_T)\n",
    "\n",
    "# show the transition probabilities over future periods\n",
    "plt.figure(figsize=(4*v_ratings.size, 4))\n",
    "for r in v_ratings:\n",
    "    plt.subplot(100 + 10 * v_ratings.size + r + 1)\n",
    "    plot_rating_over_time(cb_T[:,r,:], v_t)\n",
    "    plt.title('rating: ' + str(r)), \n",
    "plt.show()"
   ]
  },
  {
   "cell_type": "markdown",
   "metadata": {},
   "source": [
    "## Credit worthiness index & rating boundaries\n",
    "Consider an obliger whose current rating is $r$. To model a rating transition over the period, simulate a standard normal random variable $X$, representing the change of the credit worthiness index of the obligor. \n",
    "Note that the smaller $X$, the obligor becomes more credit worthy.\n",
    "\n",
    "The obligor's new rating is $r$ if\n",
    "$$ b_{r,s-1} < \\mathcal{N}(X) \\le b_{r,s} $$\n",
    "where\n",
    "* $\\mathcal{N}$ is the c.d.f of the standard normal distribution. \n",
    "* The rating boundaries $\\{b_{r,s}\\}$ are given by\n",
    "    * $b_{r,-1} = -\\infty$ and \n",
    "    * $b_{r,s} = T_{r,0} + \\cdots + T_{r,s}$"
   ]
  },
  {
   "cell_type": "code",
   "execution_count": null,
   "metadata": {},
   "outputs": [],
   "source": [
    "# boundaries. with the use of np.digitize, we need only the internal thresholds for non-default starting states. \n",
    "cb_boundary = np.cumsum(cb_T, axis = 2)[:,:-1,:-1]\n",
    "\n",
    "plt.figure(figsize=(4*v_ratings.size, 4))\n",
    "for r in v_ratings[:-1]:\n",
    "    plt.subplot(100 + 10 * v_ratings.size + r + 1)\n",
    "    plot_rating_over_time(cb_boundary[:,r,:], v_t)\n",
    "    plt.title('rating: ' + str(r)), \n",
    "plt.show()"
   ]
  },
  {
   "cell_type": "markdown",
   "metadata": {},
   "source": [
    "# Credit worthiness index simulation\n",
    "For simulating CWI for the $n$-th period, denoted by $X(n)$, \n",
    "$$ X(n) = \\beta S(n) + \\sqrt{1- \\beta^2} Z(n)$$\n",
    "where\n",
    "* The systematic factor $S(n)$ is an auto-regressive time series\n",
    "$$ S(n) = \\theta S(n-1) + \\sqrt{1 - \\theta^2} \\epsilon(n)$$\n",
    "where $\\epsilon(n) \\sim \\mathcal{N}(0,1)$\n",
    "* The idiosyncratic factor $Z(n)$ is an $\\mathcal{N}(0,1)$ variable. $Z$ and $\\epsilon$ are assumed to be independent. \n",
    "\n",
    "For rating evoluation at time step $n$, consider two approaches:\n",
    "* Incremental CWI approach: The rating at time step $n$ is detemined by comparing $X(n)$ against the rating boundaries $\\{b_{r,s}\\}$ as above.\n",
    "* Cumulative CWI approach:\n",
    "    * Calculate the cumulateive CWIs:\n",
    "    $$ Y(n) = \\sum_{j=0}^{n} X_(n) $$\n",
    "    * Set $Y(n) = \\infty$ is the obliger is at the default state at time $(n-1)$\n",
    "    * Sort $Y(n)$.\n",
    "    * Assign the ratings according to the transition probabilities based on $T(0,n)$ for the $n$ periods"
   ]
  },
  {
   "cell_type": "code",
   "execution_count": null,
   "metadata": {},
   "outputs": [],
   "source": [
    "# global model parameters\n",
    "num_scens = 100000\n",
    "num_steps = n_periods\n",
    "factor_loading = np.sqrt(0.5)\n",
    "random_seed = 12345\n",
    "\n",
    "def rating_simulation(ar_theta, initial_rating, use_incremental = True):\n",
    "    \n",
    "    np.random.seed(random_seed)\n",
    "    # systematic factors, auto-regressive\n",
    "    mtx_sys = np.random.standard_normal((num_scens, num_steps))\n",
    "    for n in range(1, num_steps):\n",
    "        mtx_sys[:,n] = ar_theta * mtx_sys[:,n-1] + np.sqrt(1 - ar_theta**2) * mtx_sys[:, n]\n",
    "    \n",
    "    # for CWI, combine with idiosyncratic factor\n",
    "    mtx_X = factor_loading * mtx_sys\n",
    "    mtx_X += np.sqrt(1 - factor_loading**2) * np.random.standard_normal((num_scens, num_steps))\n",
    "    # cumulative CWI over time\n",
    "    mtx_Y = np.cumsum(mtx_X, axis = 1)\n",
    "    \n",
    "    # now, run the rating simulations\n",
    "    mtx_r = np.zeros((num_scens, num_steps+1), dtype=int)\n",
    "    mtx_r[:,0] = initial_rating\n",
    "    for n in range(0, num_steps):\n",
    "        if use_incremental:\n",
    "            mtx_r[:,n+1] = next_rating_incremental(mtx_r[:,n], mtx_X[:,n])\n",
    "        else:\n",
    "            mtx_r[:,n+1] = next_rating_cumulative(mtx_r[:,n], mtx_Y[:,n], cb_boundary[n, initial_rating])\n",
    "\n",
    "    return mtx_r, mtx_X, rating_counts(mtx_r)\n",
    "\n",
    "def next_rating_incremental(v_cur_rating, v_X):\n",
    "    v_next_rating = np.zeros_like(v_cur_rating)\n",
    "    for r in v_ratings:\n",
    "        idx = v_cur_rating == r\n",
    "        if r == v_ratings.size - 1: # i.e. the current rating is default\n",
    "            v_next_rating[idx] = r\n",
    "        else:\n",
    "            v_next_rating[idx] = np.digitize(ss.norm.cdf(v_X[idx]), cb_boundary[0][r])\n",
    "    return v_next_rating\n",
    "\n",
    "def next_rating_cumulative(v_cur_rating, v_Y, v_boundary):\n",
    " \n",
    "    v_next_rating = np.zeros_like(v_cur_rating)\n",
    "    \n",
    "    # first set the previously defaulted paths to default\n",
    "    D_rating = v_ratings.size - 1\n",
    "    v_Yc = v_Y.copy()    \n",
    "    v_Yc[v_cur_rating == D_rating] = np.infty\n",
    "    \n",
    "    v_sorted_idx = np.argsort(v_Yc)\n",
    "    \n",
    "    v_rating_idx_band = np.hstack((0, [int(b * num_scens) for b in v_boundary], num_scens))\n",
    "    for ib in range(v_boundary.size + 1):\n",
    "        idx_s = v_rating_idx_band[ib]\n",
    "        idx_e = v_rating_idx_band[ib+1]\n",
    "        v_next_rating[v_sorted_idx[idx_s:idx_e]] = ib\n",
    "    \n",
    "    return v_next_rating\n",
    "\n",
    "\n",
    "rbins = - 0.5 + np.hstack((v_ratings, v_ratings.size))\n",
    "def rating_counts(mtx_r):\n",
    "    mtx_c = np.zeros((v_ratings.size, mtx_r.shape[1]))\n",
    "    for n in range(mtx_r.shape[1]):\n",
    "        mtx_c[:, n] = np.histogram(mtx_r[:,n], rbins)[0]\n",
    "    return mtx_c\n",
    "\n",
    "v_steps = np.arange(0, num_steps + 1)\n",
    "\n",
    "def plot_rating_paths(mtx_r, scen_idx):    \n",
    "    plt.plot(v_steps, mtx_r[scen_idx, :].T)\n",
    "    plt.xticks(v_steps)\n",
    "    plt.yticks(v_ratings)\n",
    "    plt.grid()"
   ]
  },
  {
   "cell_type": "markdown",
   "metadata": {},
   "source": [
    "# Simulation samples\n",
    "\n",
    "Consider four cases:\n",
    "* incremental approach, zero auto-regressive parameters\n",
    "* incremental approach, non-zero auto-regressive parameters\n",
    "* cumulative approach, zero auto-regressive parameters\n",
    "* cumulative approach, non-zero auto-regressive parameters"
   ]
  },
  {
   "cell_type": "markdown",
   "metadata": {},
   "source": [
    "## simulations and sample plots"
   ]
  },
  {
   "cell_type": "code",
   "execution_count": null,
   "metadata": {},
   "outputs": [],
   "source": [
    "init_rating = 1\n",
    "\n",
    "plot_idx = range(4)\n",
    "\n",
    "plot_config = {'incremental & w/o AR(1)': [0.0, True],\n",
    "               'incremental & w   AR(1)': [np.sqrt(0.5), True], \n",
    "               'cumulative & w/o AR(1)': [0.0, False],\n",
    "               'cumulative & w   AR(1)': [np.sqrt(0.5), False],\n",
    "              }\n",
    "\n",
    "i = 1\n",
    "plt.figure(figsize=[10,10])\n",
    "\n",
    "kw_devs = {}\n",
    "kw_r_scen = {}\n",
    "for k,v in plot_config.items():\n",
    "    \n",
    "    \n",
    "    # simulate\n",
    "    mtx_r, mtx_X, mtx_c = rating_simulation(v[0], init_rating, v[1])\n",
    "    # sample plots\n",
    "    plt.subplot(220 + i)\n",
    "    plot_rating_paths(mtx_r, plot_idx)\n",
    "    plt.title(k)\n",
    "    i += 1\n",
    "    \n",
    "    kw_r_scen[k] = mtx_r\n",
    "    kw_devs[k] = np.round(mtx_c[:,1:] - cb_T[:, init_rating].T * num_scens, 0)\n",
    "plt.show()"
   ]
  },
  {
   "cell_type": "markdown",
   "metadata": {},
   "source": [
    "## show the deviation counts based on the markov transitions\n",
    "* For the cumulative approach, the probabilities are recoved by construction\n",
    "* For the incremental approach, having non-zero auto-regression create deviations. "
   ]
  },
  {
   "cell_type": "code",
   "execution_count": null,
   "metadata": {},
   "outputs": [],
   "source": [
    "\n",
    "for k,v in kw_devs.items():\n",
    "        \n",
    "    print('***' + k + '***')\n",
    "    print('Deviation from prediction based on the Markov model')\n",
    "    print(v)\n",
    "    print('*** done ***')"
   ]
  },
  {
   "cell_type": "markdown",
   "metadata": {},
   "source": [
    "## some statistics on rathing evolution paths"
   ]
  },
  {
   "cell_type": "code",
   "execution_count": null,
   "metadata": {},
   "outputs": [],
   "source": [
    "for k,mtx_r in kw_r_scen.items():\n",
    "    mtx_r_diff = mtx_r[:,1:] - mtx_r[:,:-1]\n",
    "    \n",
    "    # num transitions\n",
    "    v_num_tran = np.sum(np.abs(mtx_r_diff) > 0, axis = 1)\n",
    "    \n",
    "    print('*** ' + k + ' ****')\n",
    "    print('transition counts')\n",
    "    print(' mean: ' + str(np.mean(v_num_tran)))\n",
    "    print(' std: ' + str(np.mean(v_num_tran)))\n",
    "    \n",
    "    \n",
    "    \n",
    "    # path volatilities\n",
    "    v_vol = np.std(mtx_r_diff, axis = 1)\n",
    "\n",
    "    print('rating volatility')\n",
    "    print(' mean: ' + str(np.mean(v_num_tran)))\n",
    "    \n",
    "    print('     ')"
   ]
  },
  {
   "cell_type": "markdown",
   "metadata": {},
   "source": [
    "# Observation\n",
    "Based on the example, there seems to be no obvious statistical difference in the transition counts and the rating volatilities across different approaches. "
   ]
  },
  {
   "cell_type": "markdown",
   "metadata": {},
   "source": [
    "# Rating determination at time steps within the simulation horizon:\n",
    "\n",
    "Let $\\Delta t$ be the simulation horizon and $m$ be a time step within the horizon (i.e. $0 < m < \\Delta t$). To determine the rating at $m$, \n",
    "* The transition matrix for $m$ is approximated by the first-order Taylor expansion:\n",
    "$$ I + \\frac{1}{m}(T - I) $$\n",
    "and determine the rating transition boundaries as describe above.\n",
    "* Compare the simulated CWI $X$ for this horizon to the boundaries. \n",
    "\n",
    "The reason to use the first-order approximation is to ensure all transition probabilities to be positive. "
   ]
  },
  {
   "cell_type": "code",
   "execution_count": null,
   "metadata": {},
   "outputs": [],
   "source": [
    "# Taylor expansion\n",
    "def scale_down_tm(T, alpha, deg):\n",
    "    I = np.eye(T.shape[0])\n",
    "    \n",
    "    x = I\n",
    "    c = 1.0\n",
    "    dT = I\n",
    "    \n",
    "    for i in range(deg):\n",
    "        c *= (alpha - 1.0*i)/(1.0*i+1.0)\n",
    "        dT = np.dot(dT, T-I)\n",
    "        x = x + c * dT\n",
    "    \n",
    "    return x\n",
    "    \n",
    "        \n",
    "deg = 1\n",
    "cb_T_down = []\n",
    "v_alpha = np.linspace(0.0, 1.0, 21)[:]\n",
    "for alpha in v_alpha:\n",
    "    cb_T_down.append(scale_down_tm(mtx_T, alpha, deg))\n",
    "cb_T_down = np.array(cb_T_down)\n",
    "cb_boundary_down = np.cumsum(cb_T_down, axis = 2)[:,:-1,:-1]"
   ]
  },
  {
   "cell_type": "code",
   "execution_count": null,
   "metadata": {},
   "outputs": [],
   "source": [
    "# boundaries. with the use of np.digitize, we need only the internal thresholds for non-default starting states. \n",
    "plt.figure(figsize=(4*v_ratings.size, 4))\n",
    "for r in v_ratings[:-1]:\n",
    "    mtx_prob = cb_boundary_down[:,r,:]\n",
    "    plt.subplot(100 + 10 * v_ratings.size + r + 1)\n",
    "    for r in range(mtx_prob.shape[1]):\n",
    "        plt.plot(v_alpha, mtx_prob[:,r], label = 'rating: ' + str(r))\n",
    "    plt.legend()\n",
    "    plt.xlim([0, 1.1]), plt.ylim([-0.1, 1.1])\n",
    "    plt.xlabel('period'), plt.ylabel('probability')  \n",
    "    \n",
    "    plt.title('rating: ' + str(r)), \n",
    "plt.show()"
   ]
  },
  {
   "cell_type": "code",
   "execution_count": null,
   "metadata": {},
   "outputs": [],
   "source": []
  }
 ],
 "metadata": {
  "kernelspec": {
   "display_name": "Python 3.7.6 64-bit ('anylox': conda)",
   "language": "python",
   "name": "python37664bitanyloxcondadf7af2b7eb864dafa3dc9f3de0bfb018"
  },
  "language_info": {
   "codemirror_mode": {
    "name": "ipython",
    "version": 3
   },
   "file_extension": ".py",
   "mimetype": "text/x-python",
   "name": "python",
   "nbconvert_exporter": "python",
   "pygments_lexer": "ipython3",
   "version": "3.7.6-final"
  }
 },
 "nbformat": 4,
 "nbformat_minor": 2
}