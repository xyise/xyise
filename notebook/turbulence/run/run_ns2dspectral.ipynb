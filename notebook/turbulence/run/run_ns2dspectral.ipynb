{
 "cells": [
  {
   "cell_type": "code",
   "execution_count": 3,
   "metadata": {},
   "outputs": [
    {
     "name": "stdout",
     "output_type": "stream",
     "text": [
      "The autoreload extension is already loaded. To reload it, use:\n",
      "  %reload_ext autoreload\n"
     ]
    }
   ],
   "source": [
    "import os, sys\n",
    "import shutil\n",
    "import time\n",
    "import numpy as np\n",
    "import matplotlib.pyplot as plt\n",
    "import plotly.graph_objs as go\n",
    "\n",
    "\n",
    "\n",
    "# include the folder\n",
    "sys.path.append(os.path.join(os.getcwd(), os.path.pardir))\n",
    "\n",
    "import navier_stokes_2d\n",
    "import post_prosessing as pp\n",
    "\n",
    "%load_ext autoreload\n",
    "%autoreload 2\n",
    "\n",
    "%matplotlib qt\n"
   ]
  },
  {
   "cell_type": "code",
   "execution_count": 4,
   "metadata": {},
   "outputs": [],
   "source": [
    "output_root_folder = r'/home/youngsuklee/SimulationData/NS2D'"
   ]
  },
  {
   "cell_type": "markdown",
   "metadata": {},
   "source": [
    "# "
   ]
  },
  {
   "cell_type": "markdown",
   "metadata": {},
   "source": [
    "# Kelvin Helmhotz simulation"
   ]
  },
  {
   "cell_type": "code",
   "execution_count": 18,
   "metadata": {},
   "outputs": [
    {
     "name": "stdout",
     "output_type": "stream",
     "text": [
      " time step (n):  0\n",
      "*** time step updated:  0.06392079769627605  from  inf\n",
      "\n",
      " time step (n):  60\n",
      "*** time step updated:  0.04117738379032788  from  0.06392079769627605\n",
      "\n",
      " time step (n):  980"
     ]
    }
   ],
   "source": [
    "# prepare the data io object\n",
    "dio = pp.DataIO(os.path.join(output_root_folder, 'KH2D'))\n",
    "dio.clean_all()\n",
    "\n",
    "pi2 = 2.0 * np.pi\n",
    "Mx = 256\n",
    "My = Mx\n",
    "Mx_da = None\n",
    "My_da = Mx_da\n",
    "Re = 10000\n",
    "ns2d = navier_stokes_2d.NS2dSpectral(pi2, pi2, Mx, My, 1/Re, 1, Mx_da=Mx_da, My_da=My_da, FFTW_threads=6)\n",
    "\n",
    "# initialise\n",
    "mtx_vor = navier_stokes_2d.init_kevin_helmoltz_vorticity_periodic(Mx=Mx, My=My)\n",
    "mtx_vor_k =  ns2d.fft2d(mtx_vor)\n",
    "\n",
    "T = 1000\n",
    "t = 0.0\n",
    "for n in range(T):\n",
    "    if n % 20 == 0:\n",
    "        print('\\r time step (n): ', str(n), end='')\n",
    "        ns2d.update_dt_step_k(mtx_vor_k)\n",
    "        mtx_vor = ns2d.ifft2d(mtx_vor_k)\n",
    "        dio.save_data(str(T+n), mtx_vor, {'t': t})\n",
    "    mtx_vor_k = ns2d.march_forward_k(mtx_vor_k)\n",
    "    t += ns2d.dt_step"
   ]
  },
  {
   "cell_type": "code",
   "execution_count": 6,
   "metadata": {},
   "outputs": [],
   "source": [
    "pi2 = 2.0 * np.pi\n",
    "Mx = 256\n",
    "My = Mx\n",
    "Mx_da = None\n",
    "My_da = Mx_da\n",
    "Re = 10000\n",
    "ns2d = navier_stokes_2d.NS2dSpectral(pi2, pi2, Mx, My, 1/Re, 1, Mx_da=Mx_da, My_da=My_da, FFTW_threads=6)"
   ]
  },
  {
   "cell_type": "code",
   "execution_count": 14,
   "metadata": {},
   "outputs": [],
   "source": [
    "dio = pp.DataIO(os.path.join(output_root_folder, 'KH2D'))\n",
    "mtx_vor, kw_atts = dio.read_data(str(1200))\n",
    "mtx_psi = ns2d.get_psi(mtx_vor)\n",
    "\n",
    "mtx_u, mtx_v = ns2d.get_uv_from_psi(mtx_psi)\n",
    "\n",
    "plt.figure(figsize=(10,10))\n",
    "plt.streamplot(ns2d.mtx_x, ns2d.mtx_y, mtx_u, mtx_v, linewidth=0.5)\n",
    "pp.make_image_2d(mtx_vor, ns2d.mtx_x, ns2d.mtx_y)\n",
    "#plt.colorbar()\n",
    "plt.savefig(os.path.join(dio.fig_folder, 'KH.png'))\n",
    "plt.show()"
   ]
  },
  {
   "cell_type": "markdown",
   "metadata": {},
   "source": [
    "# Turbulence"
   ]
  },
  {
   "cell_type": "code",
   "execution_count": 38,
   "metadata": {},
   "outputs": [],
   "source": [
    "# prepare the data io object\n",
    "dio = pp.DataIO(os.path.join(output_root_folder, 'Turb2D'))\n",
    "dio.clean_all()\n",
    "\n",
    "pi2 = 2.0 * np.pi\n",
    "Mx = 256\n",
    "My = Mx\n",
    "Mx_da = None\n",
    "My_da = Mx_da\n",
    "Re = 10000\n",
    "ns2d = navier_stokes_2d.NS2dSpectral(pi2, pi2, Mx, My, 1/Re, 1, Mx_da=Mx_da, My_da=My_da, FFTW_threads=6)\n",
    "\n",
    "# initialise\n",
    "mtx_vor = navier_stokes_2d.init_random_periodic(Mx=Mx, My=My)\n",
    "mtx_vor_k =  ns2d.fft2d(mtx_vor)\n",
    "mtx_vor_k /= ns2d.get_energy(mtx_vor_k)"
   ]
  },
  {
   "cell_type": "code",
   "execution_count": 83,
   "metadata": {},
   "outputs": [
    {
     "data": {
      "text/plain": [
       "341.3333333333333"
      ]
     },
     "execution_count": 83,
     "metadata": {},
     "output_type": "execute_result"
    }
   ],
   "source": [
    "512 * 2 / 3"
   ]
  },
  {
   "cell_type": "code",
   "execution_count": 150,
   "metadata": {},
   "outputs": [
    {
     "name": "stdout",
     "output_type": "stream",
     "text": [
      " time step (n):  0\n",
      "*** time step updated:  0.018398253140038522  from  inf\n",
      "\n",
      " time step (n):  400\n",
      "*** time step updated:  0.05125305397466251  from  0.018398253140038522\n",
      "\n",
      " time step (n):  1200\n",
      "*** time step updated:  0.11429002581396211  from  0.05125305397466251\n",
      "\n",
      " time step (n):  6000\n",
      "*** time step updated:  0.2352854252232887  from  0.11429002581396211\n",
      "\n",
      " time step (n):  9800"
     ]
    }
   ],
   "source": [
    "# prepare the data io object\n",
    "dio = pp.DataIO(os.path.join(output_root_folder, 'Turb2D_E1'))\n",
    "dio.clean_all()\n",
    "\n",
    "pi2 = 2.0 * np.pi\n",
    "Mx = 340\n",
    "My = Mx\n",
    "Mx_da = 512\n",
    "My_da = Mx_da\n",
    "Re = 10000\n",
    "ns2d = navier_stokes_2d.NS2dSpectral(pi2, pi2, Mx, My, 1/Re, 1, Mx_da=Mx_da, My_da=My_da, FFTW_threads=6)\n",
    "\n",
    "# initialise\n",
    "mtx_vor = navier_stokes_2d.init_random_periodic(Mx=Mx, My=My, k0=50)\n",
    "mtx_vor_k =  ns2d.fft2d(mtx_vor)\n",
    "mtx_vor_k /= np.sqrt(ns2d.get_energy(mtx_vor_k)) # make it a unit energy\n",
    "mtx_vor_k_0 = mtx_vor_k.copy()\n",
    "\n",
    "T = 10000\n",
    "t = 0.0\n",
    "for n in range(T):\n",
    "    if n % 200 == 0:\n",
    "        print('\\r time step (n): ', str(n), end='')\n",
    "        ns2d.update_dt_step_k(mtx_vor_k)\n",
    "        mtx_vor = ns2d.ifft2d(mtx_vor_k)\n",
    "        dio.save_data(str(T+n), mtx_vor, {'t': t})\n",
    "    mtx_vor_k = ns2d.march_forward_k(mtx_vor_k)\n",
    "    t += ns2d.dt_step"
   ]
  },
  {
   "cell_type": "code",
   "execution_count": 20,
   "metadata": {},
   "outputs": [],
   "source": [
    "dio = pp.DataIO(os.path.join(output_root_folder, 'Turb2D_E1'))\n",
    "\n",
    "pi2 = 2.0 * np.pi\n",
    "Mx = 340\n",
    "My = Mx\n",
    "Mx_da = 512\n",
    "My_da = Mx_da\n",
    "Re = 10000\n",
    "ns2d = navier_stokes_2d.NS2dSpectral(pi2, pi2, Mx, My, 1/Re, 1, Mx_da=Mx_da, My_da=My_da, FFTW_threads=6)\n",
    "\n",
    "mtx_vor, kw_atts = dio.read_data(str(10000 + 1800))\n",
    "mtx_vor_k = ns2d.fft2d(mtx_vor)\n",
    "\n",
    "plt.figure(figsize=(10,10))\n",
    "pp.make_image_2d(mtx_vor, ns2d.mtx_x, ns2d.mtx_y, 'RdBu_r')\n",
    "plt.savefig(os.path.join(dio.fig_folder, 'Turb2D.png'))\n",
    "plt.show()"
   ]
  },
  {
   "cell_type": "code",
   "execution_count": 147,
   "metadata": {},
   "outputs": [
    {
     "name": "stdout",
     "output_type": "stream",
     "text": [
      "energy nan\n",
      "energy nan\n"
     ]
    }
   ],
   "source": [
    "l_t = [0, 9800]\n",
    "for t in l_t:\n",
    "    mtx_vor, kw_atts = dio.read_data(str(T + t))\n",
    "    mtx_vor_k = ns2d.fft2d(mtx_vor)\n",
    "    print('energy', ns2d.get_energy(mtx_vor_k))"
   ]
  },
  {
   "cell_type": "code",
   "execution_count": 137,
   "metadata": {},
   "outputs": [
    {
     "data": {
      "text/plain": [
       "2288.246040393053"
      ]
     },
     "execution_count": 137,
     "metadata": {},
     "output_type": "execute_result"
    }
   ],
   "source": [
    "ns2d.get_energy(mtx_vor_k_0)"
   ]
  },
  {
   "cell_type": "code",
   "execution_count": 144,
   "metadata": {},
   "outputs": [],
   "source": [
    "mtx_vor = navier_stokes_2d.init_random_periodic(Mx=Mx, My=My, k0=50)\n",
    "mtx_vor_k =  ns2d.fft2d(mtx_vor)\n",
    "E = ns2d.get_energy(mtx_vor_k)\n",
    "mtx_vor_k /= np.sqrt(E)\n",
    "mtx_vor_k_0 = mtx_vor_k.copy()"
   ]
  },
  {
   "cell_type": "code",
   "execution_count": null,
   "metadata": {},
   "outputs": [],
   "source": []
  }
 ],
 "metadata": {
  "interpreter": {
   "hash": "5271a71b48930ead529db7c735368e43509f193fea3f0c5d53d1a898660899f5"
  },
  "kernelspec": {
   "display_name": "Python 3.7.6 64-bit ('anylox': conda)",
   "name": "python3"
  },
  "language_info": {
   "codemirror_mode": {
    "name": "ipython",
    "version": 3
   },
   "file_extension": ".py",
   "mimetype": "text/x-python",
   "name": "python",
   "nbconvert_exporter": "python",
   "pygments_lexer": "ipython3",
   "version": "3.7.6"
  },
  "orig_nbformat": 4
 },
 "nbformat": 4,
 "nbformat_minor": 2
}
