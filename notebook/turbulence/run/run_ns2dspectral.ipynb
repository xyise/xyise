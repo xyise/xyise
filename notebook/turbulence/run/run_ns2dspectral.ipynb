{
 "cells": [
  {
   "cell_type": "code",
   "execution_count": 1,
   "metadata": {},
   "outputs": [],
   "source": [
    "import os, sys\n",
    "import shutil\n",
    "import time\n",
    "import numpy as np\n",
    "import matplotlib.pyplot as plt\n",
    "import plotly.graph_objs as go\n",
    "\n",
    "\n",
    "# include the folder\n",
    "sys.path.append(os.path.join(os.getcwd(), os.path.pardir))\n",
    "\n",
    "import ns2dspectral\n",
    "\n",
    "%load_ext autoreload\n",
    "%autoreload 2\n",
    "\n"
   ]
  },
  {
   "cell_type": "code",
   "execution_count": 2,
   "metadata": {},
   "outputs": [],
   "source": [
    "def save_image(data, fn, cm=\"RdBu\"):\n",
    "    vmax = np.max(np.abs(data))\n",
    "    sizes = np.shape(data)\n",
    "    height = float(sizes[0]); width = float(sizes[1])\n",
    "    fig = plt.figure()\n",
    "    fig.set_size_inches(width/height, 1, forward=False)\n",
    "    ax = plt.Axes(fig, [0., 0., 1., 1.])\n",
    "    ax.set_axis_off()\n",
    "    fig.add_axes(ax)\n",
    "    ax.contourf(data, cmap=cm, vmin=-vmax, vmax=vmax, levels=20)\n",
    "    plt.savefig(fn, dpi = 4*height, bbox_inches=\"tight\", pad_inches=0) \n",
    "    plt.close()\n",
    "\n",
    "pi2 = np.pi * 2.0"
   ]
  },
  {
   "cell_type": "code",
   "execution_count": 12,
   "metadata": {},
   "outputs": [],
   "source": [
    "def clean_folder(folder):\n",
    "    if os.path.exists(folder):\n",
    "        shutil.rmtree(folder)\n",
    "    time.sleep(0.5)\n",
    "    os.makedirs(folder, exist_ok=True)\n",
    "\n",
    "data_home_folder = os.path.join(os.path.expanduser('~'), 'SimulationData', 'NS2D')\n",
    "output_folder = os.path.join(data_home_folder, 'output')\n",
    "fig_folder = os.path.join(data_home_folder, 'fig')\n",
    "clean_folder(output_folder)\n",
    "clean_folder(fig_folder)"
   ]
  },
  {
   "cell_type": "code",
   "execution_count": null,
   "metadata": {},
   "outputs": [],
   "source": []
  },
  {
   "cell_type": "code",
   "execution_count": 5,
   "metadata": {},
   "outputs": [
    {
     "data": {
      "text/plain": [
       "'/home/youngsuklee'"
      ]
     },
     "execution_count": 5,
     "metadata": {},
     "output_type": "execute_result"
    }
   ],
   "source": [
    "os.path.expanduser('~')"
   ]
  },
  {
   "cell_type": "code",
   "execution_count": 181,
   "metadata": {},
   "outputs": [
    {
     "data": {
      "text/plain": [
       "1.0525333789097218"
      ]
     },
     "execution_count": 181,
     "metadata": {},
     "output_type": "execute_result"
    }
   ],
   "source": [
    "Mx = 64\n",
    "My = 128\n",
    "ns2d = ns2dspectral.NS2dSpectral(pi2, pi2, Mx, My, 1e-4, 1, .1)\n",
    "np.max(ns2d.kw_factor[2])"
   ]
  },
  {
   "cell_type": "code",
   "execution_count": 182,
   "metadata": {},
   "outputs": [
    {
     "ename": "AttributeError",
     "evalue": "'NS2dSpectral' object has no attribute 'mtx_pad'",
     "output_type": "error",
     "traceback": [
      "\u001b[0;31m---------------------------------------------------------------------------\u001b[0m",
      "\u001b[0;31mAttributeError\u001b[0m                            Traceback (most recent call last)",
      "\u001b[0;32m/tmp/ipykernel_129226/828619062.py\u001b[0m in \u001b[0;36m<module>\u001b[0;34m\u001b[0m\n\u001b[1;32m     12\u001b[0m \u001b[0;34m\u001b[0m\u001b[0m\n\u001b[1;32m     13\u001b[0m \u001b[0;31m#mtx_vor = ns2d.get_sample_init('cos')\u001b[0m\u001b[0;34m\u001b[0m\u001b[0;34m\u001b[0m\u001b[0;34m\u001b[0m\u001b[0m\n\u001b[0;32m---> 14\u001b[0;31m \u001b[0mmtx_vor_k\u001b[0m \u001b[0;34m=\u001b[0m \u001b[0mns2d\u001b[0m\u001b[0;34m.\u001b[0m\u001b[0mfft2d\u001b[0m\u001b[0;34m(\u001b[0m\u001b[0mmtx_vor\u001b[0m\u001b[0;34m)\u001b[0m \u001b[0;34m*\u001b[0m \u001b[0mns2d\u001b[0m\u001b[0;34m.\u001b[0m\u001b[0mmtx_pad\u001b[0m\u001b[0;34m\u001b[0m\u001b[0;34m\u001b[0m\u001b[0m\n\u001b[0m\u001b[1;32m     15\u001b[0m \u001b[0mT\u001b[0m \u001b[0;34m=\u001b[0m \u001b[0;36m1000\u001b[0m\u001b[0;34m\u001b[0m\u001b[0;34m\u001b[0m\u001b[0m\n\u001b[1;32m     16\u001b[0m \u001b[0;32mfor\u001b[0m \u001b[0mn\u001b[0m \u001b[0;32min\u001b[0m \u001b[0mrange\u001b[0m\u001b[0;34m(\u001b[0m\u001b[0mT\u001b[0m\u001b[0;34m)\u001b[0m\u001b[0;34m:\u001b[0m\u001b[0;34m\u001b[0m\u001b[0;34m\u001b[0m\u001b[0m\n",
      "\u001b[0;31mAttributeError\u001b[0m: 'NS2dSpectral' object has no attribute 'mtx_pad'"
     ]
    }
   ],
   "source": [
    "Mx = 64\n",
    "My = 128\n",
    "ns2d = ns2dspectral.NS2dSpectral(pi2, pi2, Mx, My, 1e-4, 1, .1)\n",
    "\n",
    "output_folder = os.path.join(os.getcwd(), os.path.pardir, 'output')\n",
    "fig_folder = os.path.join(os.getcwd(), os.path.pardir, 'fig')\n",
    "clean_folder(output_folder)\n",
    "clean_folder(fig_folder)\n",
    "\n",
    "mtx_vor = np.random.standard_normal((My,Mx))\n",
    "mtx_vor -= np.mean(mtx_vor)\n",
    "\n",
    "#mtx_vor = ns2d.get_sample_init('cos')\n",
    "mtx_vor_k = ns2d.fft2d(mtx_vor)\n",
    "T = 1000\n",
    "for n in range(T):\n",
    "    mtx_vor_k = ns2d.march_forward_k(mtx_vor_k)\n",
    "    if n % 100 == 0:\n",
    "        mtx_vor = ns2d.ifft2d(mtx_vor_k)\n",
    "        save_image(mtx_vor, os.path.join(fig_folder, str(T + n)))"
   ]
  },
  {
   "cell_type": "code",
   "execution_count": 44,
   "metadata": {},
   "outputs": [
    {
     "data": {
      "text/plain": [
       "array([ 0.  ,  0.25, -0.5 , -0.25])"
      ]
     },
     "execution_count": 44,
     "metadata": {},
     "output_type": "execute_result"
    }
   ],
   "source": [
    "np.fft.fftfreq(4)"
   ]
  },
  {
   "cell_type": "code",
   "execution_count": 45,
   "metadata": {},
   "outputs": [
    {
     "data": {
      "text/plain": [
       "array([[-2.74592903+0.j        ,  1.53924552+0.30316447j,\n",
       "         1.15967256+0.j        ,  1.53924552-0.30316447j],\n",
       "       [-2.33462616-0.45589905j,  4.07783848+4.89383767j,\n",
       "        -0.60191508+3.45071668j, -0.6156043 +3.24392884j],\n",
       "       [ 0.87082417+0.j        ,  1.16180547+2.21451536j,\n",
       "         8.09840223+0.j        ,  1.16180547-2.21451536j],\n",
       "       [-2.33462616+0.45589905j, -0.6156043 -3.24392884j,\n",
       "        -0.60191508-3.45071668j,  4.07783848-4.89383767j]])"
      ]
     },
     "execution_count": 45,
     "metadata": {},
     "output_type": "execute_result"
    }
   ],
   "source": [
    "mtx_a = np.random.standard_normal((4,4))\n",
    "np.fft.fft2(mtx_a)"
   ]
  },
  {
   "cell_type": "code",
   "execution_count": 46,
   "metadata": {},
   "outputs": [
    {
     "data": {
      "text/plain": [
       "array([[-2.74592903+0.j        ,  1.53924552+0.30316447j,\n",
       "         1.15967256+0.j        ],\n",
       "       [-2.33462616-0.45589905j,  4.07783848+4.89383767j,\n",
       "        -0.60191508+3.45071668j],\n",
       "       [ 0.87082417+0.j        ,  1.16180547+2.21451536j,\n",
       "         8.09840223+0.j        ],\n",
       "       [-2.33462616+0.45589905j, -0.6156043 -3.24392884j,\n",
       "        -0.60191508-3.45071668j]])"
      ]
     },
     "execution_count": 46,
     "metadata": {},
     "output_type": "execute_result"
    }
   ],
   "source": [
    "np.fft.rfft2(mtx_a)"
   ]
  },
  {
   "cell_type": "code",
   "execution_count": null,
   "metadata": {},
   "outputs": [],
   "source": []
  }
 ],
 "metadata": {
  "interpreter": {
   "hash": "5271a71b48930ead529db7c735368e43509f193fea3f0c5d53d1a898660899f5"
  },
  "kernelspec": {
   "display_name": "Python 3.7.6 64-bit ('anylox': conda)",
   "name": "python3"
  },
  "language_info": {
   "codemirror_mode": {
    "name": "ipython",
    "version": 3
   },
   "file_extension": ".py",
   "mimetype": "text/x-python",
   "name": "python",
   "nbconvert_exporter": "python",
   "pygments_lexer": "ipython3",
   "version": "3.7.6"
  },
  "orig_nbformat": 4
 },
 "nbformat": 4,
 "nbformat_minor": 2
}
