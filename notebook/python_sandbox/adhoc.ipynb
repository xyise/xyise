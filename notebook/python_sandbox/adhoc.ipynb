{
 "cells": [
  {
   "cell_type": "code",
   "execution_count": 6,
   "metadata": {},
   "outputs": [
    {
     "name": "stdout",
     "output_type": "stream",
     "text": [
      "Yes\n"
     ]
    }
   ],
   "source": [
    "if 1.0 + 0.2 == 1.2:\n",
    "#if 1.1 + 0.1 == 1.2:\n",
    "    print('Yes')\n",
    "else:\n",
    "    print('No')"
   ]
  },
  {
   "cell_type": "code",
   "execution_count": 3,
   "metadata": {},
   "outputs": [
    {
     "data": {
      "text/plain": [
       "1.2000000000000002"
      ]
     },
     "execution_count": 3,
     "metadata": {},
     "output_type": "execute_result"
    }
   ],
   "source": [
    "if "
   ]
  },
  {
   "cell_type": "code",
   "execution_count": 7,
   "metadata": {},
   "outputs": [
    {
     "name": "stdout",
     "output_type": "stream",
     "text": [
      "                                                            \n",
      "                                                            \n",
      "                                                            \n",
      "                erEnginee           gineerEng               \n",
      "            ineerEngineerEngi   rEngineerEngineer           \n",
      "          gineerEngineerEngineerEngineerEngineerEng         \n",
      "         gineerEngineerEngineerEngineerEngineerEngin        \n",
      "        gineerEngineerEngineerEngineerEngineerEnginee       \n",
      "        ineerEngineerEngineerEngineerEngineerEngineer       \n",
      "        neerEngineerEngineerEngineerEngineerEngineerE       \n",
      "        eerEngineerEngineerEngineerEngineerEngineerEn       \n",
      "        erEngineerEngineerEngineerEngineerEngineerEng       \n",
      "        rEngineerEngineerEngineerEngineerEngineerEngi       \n",
      "         ngineerEngineerEngineerEngineerEngineerEngi        \n",
      "          ineerEngineerEngineerEngineerEngineerEngi         \n",
      "          neerEngineerEngineerEngineerEngineerEngin         \n",
      "            rEngineerEngineerEngineerEngineerEngi           \n",
      "             ngineerEngineerEngineerEngineerEngi            \n",
      "              ineerEngineerEngineerEngineerEngi             \n",
      "                erEngineerEngineerEngineerEng               \n",
      "                  ngineerEngineerEngineerEn                 \n",
      "                    neerEngineerEngineerE                   \n",
      "                       EngineerEnginee                      \n",
      "                          neerEngin                         \n",
      "                             Eng                            \n",
      "                              g                             \n",
      "                                                            \n",
      "                                                            \n",
      "                                                            \n",
      "                                                            \n"
     ]
    }
   ],
   "source": [
    "print('\\n'.join\n",
    " ([''.join\n",
    "   ([('Engineer'[(x-y)%8 ]\n",
    "     if((x*0.05)**2+(y*0.1)**2-1)\n",
    "      **3-(x*0.05)**2*(y*0.1)\n",
    "       **3<=0 else' ')\n",
    "        for x in range(-30,30)])\n",
    "         for y in range(15,-15,-1)]))"
   ]
  },
  {
   "cell_type": "code",
   "execution_count": null,
   "metadata": {},
   "outputs": [],
   "source": []
  }
 ],
 "metadata": {
  "kernelspec": {
   "display_name": "Python 3.7.9 ('anylox')",
   "language": "python",
   "name": "python3"
  },
  "language_info": {
   "codemirror_mode": {
    "name": "ipython",
    "version": 3
   },
   "file_extension": ".py",
   "mimetype": "text/x-python",
   "name": "python",
   "nbconvert_exporter": "python",
   "pygments_lexer": "ipython3",
   "version": "3.7.9"
  },
  "orig_nbformat": 4,
  "vscode": {
   "interpreter": {
    "hash": "5271a71b48930ead529db7c735368e43509f193fea3f0c5d53d1a898660899f5"
   }
  }
 },
 "nbformat": 4,
 "nbformat_minor": 2
}
