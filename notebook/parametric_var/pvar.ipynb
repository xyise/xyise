{
 "cells": [
  {
   "cell_type": "markdown",
   "metadata": {},
   "source": [
    "See [here](https://colab.research.google.com/drive/1VtjQWY0R8y9ZyyI8PchpoYFOiWmfT1Xh#scrollTo=zk9-SWM3H367)"
   ]
  },
  {
   "cell_type": "markdown",
   "metadata": {},
   "source": []
  }
 ],
 "metadata": {
  "interpreter": {
   "hash": "5271a71b48930ead529db7c735368e43509f193fea3f0c5d53d1a898660899f5"
  },
  "kernelspec": {
   "display_name": "Python 3.7.9 ('anylox')",
   "language": "python",
   "name": "python3"
  },
  "language_info": {
   "codemirror_mode": {
    "name": "ipython",
    "version": 3
   },
   "file_extension": ".py",
   "mimetype": "text/x-python",
   "name": "python",
   "nbconvert_exporter": "python",
   "pygments_lexer": "ipython3",
   "version": "3.7.9"
  },
  "orig_nbformat": 4
 },
 "nbformat": 4,
 "nbformat_minor": 2
}
