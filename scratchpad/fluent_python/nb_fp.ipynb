{
 "cells": [
  {
   "cell_type": "markdown",
   "metadata": {},
   "source": [
    "# General\n",
    "\n",
    "* Everything (modules, class definition, functions, objects, etc) in Python is an object.\n",
    "* \"Object-oriented programming is all about interface.\" (p433)\n",
    "* duck typing: implement the methods that fulfil the protocol; no need to inherit from any classes (p404)\n",
    "* \"A is B because A behaves like B\".\n",
    "* think of variables as sticky notes (fig 6–1 and ex 6–2, p203) not like boxes\n",
    "* `==` vs `is`: `==` (through `__eq__` method) compares the values of objects; `is` compares their identities; when comparing to a singleton (e.g. `None`) (p206, 567)"
   ]
  },
  {
   "cell_type": "markdown",
   "metadata": {},
   "source": [
    "# French Deck\n",
    "The first example in Fluent Python tells a lot. \n",
    "\n",
    "Implement `__len__` and `__getitem__`, then we got many functions for free. "
   ]
  },
  {
   "cell_type": "code",
   "execution_count": 1,
   "metadata": {
    "ExecuteTime": {
     "end_time": "2022-08-22T21:39:45.203710Z",
     "start_time": "2022-08-22T21:39:45.187477Z"
    }
   },
   "outputs": [],
   "source": [
    "import collections"
   ]
  },
  {
   "cell_type": "code",
   "execution_count": 2,
   "metadata": {
    "ExecuteTime": {
     "end_time": "2022-08-22T21:39:45.212729Z",
     "start_time": "2022-08-22T21:39:45.206363Z"
    }
   },
   "outputs": [],
   "source": [
    "Card = collections.namedtuple('Card', ['rank', 'suit'])\n",
    "\n",
    "class FrenchDeck:\n",
    "    ranks = [str(n) for n in range(2,11)] + list('JQKA')\n",
    "    suits = 'spades diamonds clubs hearts'.split()\n",
    "    \n",
    "    def __init__(self):\n",
    "        self._cards = [Card(rank, suit) for suit in self.suits for rank in self.ranks]\n",
    "\n",
    "    def __len__(self):\n",
    "        return len(self._cards)\n",
    "    \n",
    "    def __getitem__(self, position):\n",
    "        return self._cards[position]"
   ]
  },
  {
   "cell_type": "code",
   "execution_count": 3,
   "metadata": {
    "ExecuteTime": {
     "end_time": "2022-08-22T21:39:45.216332Z",
     "start_time": "2022-08-22T21:39:45.213975Z"
    }
   },
   "outputs": [],
   "source": [
    "deck = FrenchDeck()"
   ]
  },
  {
   "cell_type": "code",
   "execution_count": 4,
   "metadata": {
    "ExecuteTime": {
     "end_time": "2022-08-22T21:39:45.225793Z",
     "start_time": "2022-08-22T21:39:45.217838Z"
    }
   },
   "outputs": [
    {
     "data": {
      "text/plain": [
       "(52, Card(rank='2', suit='spades'), Card(rank='A', suit='hearts'))"
      ]
     },
     "execution_count": 4,
     "metadata": {},
     "output_type": "execute_result"
    }
   ],
   "source": [
    "# length & position, of course\n",
    "len(deck), deck[0], deck[-1]"
   ]
  },
  {
   "cell_type": "code",
   "execution_count": 5,
   "metadata": {
    "ExecuteTime": {
     "end_time": "2022-08-22T21:39:45.231410Z",
     "start_time": "2022-08-22T21:39:45.227245Z"
    }
   },
   "outputs": [
    {
     "data": {
      "text/plain": [
       "(Card(rank='K', suit='clubs'), Card(rank='Q', suit='diamonds'))"
      ]
     },
     "execution_count": 5,
     "metadata": {},
     "output_type": "execute_result"
    }
   ],
   "source": [
    "# choice\n",
    "from random import choice\n",
    "choice(deck), choice(deck)"
   ]
  },
  {
   "cell_type": "code",
   "execution_count": 6,
   "metadata": {
    "ExecuteTime": {
     "end_time": "2022-08-22T21:39:45.236147Z",
     "start_time": "2022-08-22T21:39:45.232745Z"
    }
   },
   "outputs": [
    {
     "data": {
      "text/plain": [
       "([Card(rank='2', suit='spades'),\n",
       "  Card(rank='3', suit='spades'),\n",
       "  Card(rank='4', suit='spades')],\n",
       " [Card(rank='A', suit='spades'),\n",
       "  Card(rank='A', suit='diamonds'),\n",
       "  Card(rank='A', suit='clubs'),\n",
       "  Card(rank='A', suit='hearts')])"
      ]
     },
     "execution_count": 6,
     "metadata": {},
     "output_type": "execute_result"
    }
   ],
   "source": [
    "# __getitem__ -> advanced indexing\n",
    "deck[:3], deck[12::13]"
   ]
  },
  {
   "cell_type": "code",
   "execution_count": 7,
   "metadata": {
    "ExecuteTime": {
     "end_time": "2022-08-22T21:39:45.239831Z",
     "start_time": "2022-08-22T21:39:45.237284Z"
    }
   },
   "outputs": [
    {
     "name": "stdout",
     "output_type": "stream",
     "text": [
      "Card(rank='3', suit='spades')\n",
      "Card(rank='4', suit='spades')\n",
      "Card(rank='5', suit='spades')\n"
     ]
    }
   ],
   "source": [
    "# __getitem__ -> iterable\n",
    "for c in deck[1:4]:\n",
    "    print(c)"
   ]
  },
  {
   "cell_type": "code",
   "execution_count": 8,
   "metadata": {
    "ExecuteTime": {
     "end_time": "2022-08-22T21:39:45.244733Z",
     "start_time": "2022-08-22T21:39:45.241087Z"
    }
   },
   "outputs": [
    {
     "name": "stdout",
     "output_type": "stream",
     "text": [
      "Card(rank='4', suit='spades')\n",
      "Card(rank='3', suit='spades')\n"
     ]
    }
   ],
   "source": [
    "# reverse\n",
    "for c in reversed(deck[1:3]):\n",
    "    print(c)"
   ]
  },
  {
   "cell_type": "code",
   "execution_count": 9,
   "metadata": {
    "ExecuteTime": {
     "end_time": "2022-08-22T21:39:45.249195Z",
     "start_time": "2022-08-22T21:39:45.245984Z"
    }
   },
   "outputs": [
    {
     "data": {
      "text/plain": [
       "(True, False)"
      ]
     },
     "execution_count": 9,
     "metadata": {},
     "output_type": "execute_result"
    }
   ],
   "source": [
    "# 'in' operation through sequential scan\n",
    "Card('Q', 'hearts') in deck, Card('7', 'beasts') in deck"
   ]
  },
  {
   "cell_type": "code",
   "execution_count": 10,
   "metadata": {
    "ExecuteTime": {
     "end_time": "2022-08-22T21:39:45.254308Z",
     "start_time": "2022-08-22T21:39:45.251535Z"
    }
   },
   "outputs": [],
   "source": [
    "# sorting\n",
    "suit_values = dict(spades=3, hearts=2, diamonds=1, clubs=0)\n",
    "\n",
    "def spades_high(card):\n",
    "    rank_value = FrenchDeck.ranks.index(card.rank)\n",
    "    return rank_value * len(suit_values) + suit_values[card.suit]"
   ]
  },
  {
   "cell_type": "code",
   "execution_count": 11,
   "metadata": {
    "ExecuteTime": {
     "end_time": "2022-08-22T21:39:45.258855Z",
     "start_time": "2022-08-22T21:39:45.255466Z"
    }
   },
   "outputs": [
    {
     "data": {
      "text/plain": [
       "[Card(rank='2', suit='clubs'),\n",
       " Card(rank='2', suit='diamonds'),\n",
       " Card(rank='2', suit='hearts')]"
      ]
     },
     "execution_count": 11,
     "metadata": {},
     "output_type": "execute_result"
    }
   ],
   "source": [
    "spades_high(Card('K', 'hearts'))\n",
    "sorted(deck, key=spades_high)[:3]"
   ]
  },
  {
   "cell_type": "code",
   "execution_count": 12,
   "metadata": {
    "ExecuteTime": {
     "end_time": "2022-08-22T21:39:45.264395Z",
     "start_time": "2022-08-22T21:39:45.260515Z"
    }
   },
   "outputs": [
    {
     "data": {
      "text/plain": [
       "[Card(rank='10', suit='hearts'),\n",
       " Card(rank='Q', suit='clubs'),\n",
       " Card(rank='J', suit='diamonds'),\n",
       " Card(rank='Q', suit='hearts')]"
      ]
     },
     "execution_count": 12,
     "metadata": {},
     "output_type": "execute_result"
    }
   ],
   "source": [
    "# Monkey Patching!\n",
    "from random import shuffle\n",
    "# monkey patchinig: can add a function later as long as the signiture is consistent\n",
    "def set_card(deck, position, card):\n",
    "    deck._cards[position] = card\n",
    "FrenchDeck.__setitem__ = set_card\n",
    "shuffle(deck) # this would raise an error if not patched. \n",
    "deck[:4]"
   ]
  },
  {
   "cell_type": "markdown",
   "metadata": {},
   "source": [
    "# == vs is\n",
    "* ==: to compare values\n",
    "* is: to compare ids"
   ]
  },
  {
   "cell_type": "code",
   "execution_count": 13,
   "metadata": {
    "ExecuteTime": {
     "end_time": "2022-08-22T21:39:45.268712Z",
     "start_time": "2022-08-22T21:39:45.265594Z"
    }
   },
   "outputs": [
    {
     "name": "stdout",
     "output_type": "stream",
     "text": [
      "x1 is x2 (id comparision): True\n",
      "x1 is x3 (id comparision): False\n",
      "x1 == x3 (value comparision): True\n"
     ]
    }
   ],
   "source": [
    "# with list\n",
    "x1 = [1,2,3]\n",
    "x2 = x1\n",
    "x3 = [1,2,3]\n",
    "print('x1 is x2 (id comparision):', x1 is x2)\n",
    "print('x1 is x3 (id comparision):', x1 is x3)\n",
    "print('x1 == x3 (value comparision):', x1 == x3)"
   ]
  },
  {
   "cell_type": "code",
   "execution_count": 14,
   "metadata": {
    "ExecuteTime": {
     "end_time": "2022-08-22T21:39:45.272646Z",
     "start_time": "2022-08-22T21:39:45.269763Z"
    }
   },
   "outputs": [
    {
     "name": "stdout",
     "output_type": "stream",
     "text": [
      "d1 == d2 False\n",
      "d1 == d3 True\n"
     ]
    }
   ],
   "source": [
    "# == works for dictionary as well\n",
    "d1 = {1:2, 2:4}\n",
    "d2 = {1:20, 2:40}\n",
    "d3 = {1:2, 2:4}\n",
    "print('d1 == d2', d1 == d2)\n",
    "print('d1 == d3', d1 == d3)"
   ]
  },
  {
   "cell_type": "markdown",
   "metadata": {},
   "source": [
    "# Using \\* : Grabbing Excess Iterms and Unpacking"
   ]
  },
  {
   "cell_type": "code",
   "execution_count": 15,
   "metadata": {
    "ExecuteTime": {
     "end_time": "2022-08-22T21:39:45.278886Z",
     "start_time": "2022-08-22T21:39:45.273709Z"
    }
   },
   "outputs": [
    {
     "name": "stdout",
     "output_type": "stream",
     "text": [
      "(0, 1, [2, 3, 4])\n",
      "(0, [1, 2], 3, 4)\n",
      "([0, 1], 2, 3, 4)\n"
     ]
    }
   ],
   "source": [
    "# grabbing\n",
    "# the remainder\n",
    "a,b,*rest = range(5)\n",
    "print((a,b,rest))\n",
    "a,*body,c,d = range(5)\n",
    "print((a, body, c, d))\n",
    "*head,b,c,d = range(5)\n",
    "print((head, b,c,d))"
   ]
  },
  {
   "cell_type": "code",
   "execution_count": 16,
   "metadata": {
    "ExecuteTime": {
     "end_time": "2022-08-22T21:39:45.282919Z",
     "start_time": "2022-08-22T21:39:45.280091Z"
    }
   },
   "outputs": [
    {
     "name": "stdout",
     "output_type": "stream",
     "text": [
      "(0, 1, 2, 3, 4)\n",
      "(0, 1, 2, 3, 4, 5, 6, 7)\n"
     ]
    }
   ],
   "source": [
    "# unpacking\n",
    "print( (*range(4), 4) )\n",
    "print( (*range(4),4,*(5,6,7)))"
   ]
  },
  {
   "cell_type": "code",
   "execution_count": 17,
   "metadata": {
    "ExecuteTime": {
     "end_time": "2022-08-22T21:39:45.287589Z",
     "start_time": "2022-08-22T21:39:45.284102Z"
    }
   },
   "outputs": [
    {
     "data": {
      "text/plain": [
       "(0, 1, 2, 3, 4, 5, 6, 7)"
      ]
     },
     "execution_count": 17,
     "metadata": {},
     "output_type": "execute_result"
    }
   ],
   "source": [
    "*range(4),4,*(5,6,7)"
   ]
  },
  {
   "cell_type": "markdown",
   "metadata": {},
   "source": [
    "# Exceptions\n",
    "* `try`: try a code block. \n",
    "* `except`: handle an error\n",
    "* `else`: execute code when no error. \n",
    "* `finally`: execute regardless. "
   ]
  },
  {
   "cell_type": "code",
   "execution_count": 18,
   "metadata": {
    "ExecuteTime": {
     "end_time": "2022-08-22T21:39:45.293469Z",
     "start_time": "2022-08-22T21:39:45.288744Z"
    }
   },
   "outputs": [
    {
     "name": "stdout",
     "output_type": "stream",
     "text": [
      "*** no error ***\n",
      "1\n",
      "else block\n",
      "finally block\n",
      "*** NameError ***\n",
      "name error\n",
      "finally block\n",
      "*** Other Error ***\n",
      "other error\n",
      "finally block\n"
     ]
    }
   ],
   "source": [
    "def f_ex(x):\n",
    "    try:\n",
    "        if x == 1:\n",
    "            print(x)\n",
    "        elif x == 2:\n",
    "            print(no_variable) # this will raise an exception (NameError)\n",
    "        else:\n",
    "            z = str(x) + 1 # this will raise an exception that is not NameError\n",
    "    except NameError: # handle a name error\n",
    "        print('name error')\n",
    "    except: # handle any other errors\n",
    "        print('other error')\n",
    "    else:\n",
    "        print('else block')\n",
    "    finally:\n",
    "        print('finally block')\n",
    "\n",
    "print('*** no error ***')\n",
    "f_ex(1)\n",
    "print('*** NameError ***')\n",
    "f_ex(2)\n",
    "print('*** Other Error ***')\n",
    "f_ex(3)"
   ]
  },
  {
   "cell_type": "markdown",
   "metadata": {
    "ExecuteTime": {
     "end_time": "2022-08-22T07:12:23.188767Z",
     "start_time": "2022-08-22T07:12:23.165084Z"
    }
   },
   "source": [
    "# Built-in functions & objects"
   ]
  },
  {
   "cell_type": "markdown",
   "metadata": {},
   "source": [
    "## functions"
   ]
  },
  {
   "cell_type": "code",
   "execution_count": 19,
   "metadata": {
    "ExecuteTime": {
     "end_time": "2022-08-22T21:39:45.298673Z",
     "start_time": "2022-08-22T21:39:45.294986Z"
    }
   },
   "outputs": [],
   "source": [
    "class C1:\n",
    "    def __init__(self, a: int):\n",
    "        '''\n",
    "        To show with help()\n",
    "        '''\n",
    "        self.a = a\n",
    "        self.b = a + 2\n",
    "    def fun1(self) -> int:\n",
    "        return self.a\n",
    "    def _fun2(self) -> int:\n",
    "        return self.b\n",
    "    def __fun3(self) -> int:\n",
    "        return self.a + self.b"
   ]
  },
  {
   "cell_type": "code",
   "execution_count": 20,
   "metadata": {
    "ExecuteTime": {
     "end_time": "2022-08-22T21:39:45.303994Z",
     "start_time": "2022-08-22T21:39:45.299961Z"
    }
   },
   "outputs": [
    {
     "name": "stdout",
     "output_type": "stream",
     "text": [
      "*** help(C1) ***\n",
      "Help on class C1 in module __main__:\n",
      "\n",
      "class C1(builtins.object)\n",
      " |  C1(a: int)\n",
      " |  \n",
      " |  Methods defined here:\n",
      " |  \n",
      " |  __init__(self, a: int)\n",
      " |      To show with help()\n",
      " |  \n",
      " |  fun1(self) -> int\n",
      " |  \n",
      " |  ----------------------------------------------------------------------\n",
      " |  Data descriptors defined here:\n",
      " |  \n",
      " |  __dict__\n",
      " |      dictionary for instance variables (if defined)\n",
      " |  \n",
      " |  __weakref__\n",
      " |      list of weak references to the object (if defined)\n",
      "\n",
      "None\n",
      "*** dir(C1) ***\n",
      "['_C1__fun3', '__class__', '__delattr__', '__dict__', '__dir__', '__doc__', '__eq__', '__format__', '__ge__', '__getattribute__', '__gt__', '__hash__', '__init__', '__init_subclass__', '__le__', '__lt__', '__module__', '__ne__', '__new__', '__reduce__', '__reduce_ex__', '__repr__', '__setattr__', '__sizeof__', '__str__', '__subclasshook__', '__weakref__', '_fun2', 'fun1']\n"
     ]
    }
   ],
   "source": [
    "# help, dir\n",
    "print('*** help(C1) ***')\n",
    "print(help(C1)) # does not show _fun2 and __fun3\n",
    "print('*** dir(C1) ***')\n",
    "print(dir(C1)) # _fun2 is listed. __fun3 is listed is _C1_fun3"
   ]
  },
  {
   "cell_type": "code",
   "execution_count": 21,
   "metadata": {
    "ExecuteTime": {
     "end_time": "2022-08-22T21:39:45.307977Z",
     "start_time": "2022-08-22T21:39:45.305155Z"
    }
   },
   "outputs": [
    {
     "name": "stdout",
     "output_type": "stream",
     "text": [
      "id(C1):  94548093681728\n",
      "id(c1):  140264242553488\n"
     ]
    }
   ],
   "source": [
    "# id: id of class is different from id of an instance (of course)\n",
    "c1 = C1(2)\n",
    "print('id(C1): ', id(C1))\n",
    "print('id(c1): ', id(c1))"
   ]
  },
  {
   "cell_type": "markdown",
   "metadata": {},
   "source": [
    "## List & Tuple\n",
    "* tuple is immutable and list is mutable. \n",
    "* mutable operators (`extend`, `append`, `reverse`, `sort`, etc) on list are in-place"
   ]
  },
  {
   "cell_type": "code",
   "execution_count": 22,
   "metadata": {
    "ExecuteTime": {
     "end_time": "2022-08-22T21:39:45.313288Z",
     "start_time": "2022-08-22T21:39:45.309219Z"
    }
   },
   "outputs": [
    {
     "name": "stdout",
     "output_type": "stream",
     "text": [
      "L: ['e', 'g', 'g', 'e', 'g', 'x', 'e', 'h', 'g', 'o', 'y', 'i', 'a']\n",
      "count of \"e\": 3\n",
      "index of x: 5\n",
      "L, sorted: ['a', 'e', 'e', 'e', 'g', 'g', 'g', 'g', 'h', 'i', 'o', 'x', 'y']\n",
      "L, clear: []\n"
     ]
    }
   ],
   "source": [
    "# operators\n",
    "L = list('aeioghe')\n",
    "L.append('x') # in-place\n",
    "L.extend('gegage') # in-place\n",
    "L.insert(3, 'y')\n",
    "L.remove('e') # remove the first occurence\n",
    "L.reverse() # reverse in-place\n",
    "del L[2:3] # delete. what a strange syntax\n",
    "print('L:', L)\n",
    "print('count of \"e\":', L.count('e'))\n",
    "print('index of x:', L.index('x'))\n",
    "L.sort()\n",
    "print('L, sorted:', L)\n",
    "L.clear()\n",
    "print('L, clear:', L)"
   ]
  },
  {
   "cell_type": "code",
   "execution_count": 23,
   "metadata": {
    "ExecuteTime": {
     "end_time": "2022-08-22T21:39:45.317441Z",
     "start_time": "2022-08-22T21:39:45.314444Z"
    }
   },
   "outputs": [
    {
     "name": "stdout",
     "output_type": "stream",
     "text": [
      "sorted: ['9', 'a', 'e', 'e', 'g', 'i', 'p', 'u']\n"
     ]
    }
   ],
   "source": [
    "# comparison to sorted. \n",
    "L = list('ge9pauie')\n",
    "L_s = sorted(L) # this is out-of-place operator\n",
    "print('sorted:', sorted(L_s))"
   ]
  },
  {
   "cell_type": "markdown",
   "metadata": {},
   "source": [
    "## Dictionary\n",
    "\n",
    "Different types of dictionaries\n",
    "* `dict`: standard dictionary \n",
    "* `defaultdict`: dictionary with default specification\n",
    "* `OrderedDict`: more or less \"legacy\" now. `dict` since Python 3.6 keeps the insertion order. \n",
    "* `ChainMap`: to chain multiple dictionaries. \n",
    "* `Counter`: to keep track of occurrences\n",
    "* `UserDict`: subclass it. \n",
    "* `TypedDick`: to learn\n",
    "* `shelve.Shelf`: to learn\n",
    "\n",
    "see also [this page](https://realpython.com/python-defaultdict/)\n",
    "\n",
    "Note: `d.get(k)` will return `None` whether `d` is of type `dict` or `defaultdict`. \n"
   ]
  },
  {
   "cell_type": "code",
   "execution_count": 24,
   "metadata": {
    "ExecuteTime": {
     "end_time": "2022-08-22T21:39:45.323879Z",
     "start_time": "2022-08-22T21:39:45.318588Z"
    }
   },
   "outputs": [
    {
     "name": "stdout",
     "output_type": "stream",
     "text": [
      "{'A': [0, 15], ' ': [1, 4, 6, 14, 16, 24, 29], 'i': [2, 26], 's': [3, 12, 23], 'B': [5, 30], 'b': [7, 17], 'e': [8, 13, 18, 22, 28], 'c': [9], 'a': [10, 20], 'u': [11], 'h': [19], 'v': [21], 'l': [25], 'k': [27]}\n"
     ]
    }
   ],
   "source": [
    "# use `setdefault` when inserting a key to a dictionary.\n",
    "\n",
    "# example: sentence -> dictionary of letter to list of indices\n",
    "sentence = 'A is B because A behaves like B'\n",
    "l2i = {} # or, dict()\n",
    "for i, l in enumerate(sentence):\n",
    "    l2i.setdefault(l, []).append(i)\n",
    "print(l2i)"
   ]
  },
  {
   "cell_type": "code",
   "execution_count": 25,
   "metadata": {
    "ExecuteTime": {
     "end_time": "2022-08-22T21:39:45.332671Z",
     "start_time": "2022-08-22T21:39:45.327895Z"
    }
   },
   "outputs": [
    {
     "name": "stdout",
     "output_type": "stream",
     "text": [
      "'dict_items' object is not subscriptable\n"
     ]
    },
    {
     "data": {
      "text/plain": [
       "('A', [0, 15])"
      ]
     },
     "execution_count": 25,
     "metadata": {},
     "output_type": "execute_result"
    }
   ],
   "source": [
    "# `.keys()`, `.values()`, `.items()` -> returns objects `dict_keys`, `dict_values`, `dict_items`\n",
    "# They are iterable:\n",
    "[v for v in l2i.items()][:2]\n",
    "# But, not subscriptable. \n",
    "try: \n",
    "    l2i.items()[0]\n",
    "except Exception as e:\n",
    "    print(e)\n",
    "# To make it subscriptable, make it into a list\n",
    "list(l2i.items())[2]\n",
    "# To peak the first item, make it into an iterator & call next\n",
    "next(iter(l2i.items()))"
   ]
  },
  {
   "cell_type": "code",
   "execution_count": 26,
   "metadata": {
    "ExecuteTime": {
     "end_time": "2022-08-22T21:39:45.337417Z",
     "start_time": "2022-08-22T21:39:45.333967Z"
    }
   },
   "outputs": [
    {
     "name": "stdout",
     "output_type": "stream",
     "text": [
      "defaultdict(<class 'list'>, {'A': [0, 15], ' ': [1, 4, 6, 14, 16, 24, 29], 'i': [2, 26], 's': [3, 12, 23], 'B': [5, 30], 'b': [7, 17], 'e': [8, 13, 18, 22, 28], 'c': [9], 'a': [10, 20], 'u': [11], 'h': [19], 'v': [21], 'l': [25], 'k': [27]})\n",
      "defaultdict(<class 'int'>, {'A': 2, ' ': 7, 'i': 2, 's': 3, 'B': 2, 'b': 2, 'e': 5, 'c': 1, 'a': 2, 'u': 1, 'h': 1, 'v': 1, 'l': 1, 'k': 1})\n"
     ]
    }
   ],
   "source": [
    "# alternatively, there is `defaultdict`\n",
    "from collections import defaultdict\n",
    "\n",
    "# by specifying `list', the default value is set to `list()`\n",
    "l2i_dd = defaultdict(list) \n",
    "for i, l in enumerate(sentence):\n",
    "    l2i_dd[l].append(i)\n",
    "print(l2i_dd)\n",
    "\n",
    "# to count\n",
    "l2c_dd = defaultdict(int) # or float to keep the value in float\n",
    "for i, l in enumerate(sentence):\n",
    "    l2c_dd[l] += 1\n",
    "print(l2c_dd)"
   ]
  },
  {
   "cell_type": "code",
   "execution_count": 27,
   "metadata": {
    "ExecuteTime": {
     "end_time": "2022-08-22T21:39:45.342499Z",
     "start_time": "2022-08-22T21:39:45.338463Z"
    }
   },
   "outputs": [
    {
     "name": "stdout",
     "output_type": "stream",
     "text": [
      "Counter({' ': 7, 'e': 5, 's': 3, 'A': 2, 'i': 2, 'B': 2, 'b': 2, 'a': 2, 'c': 1, 'u': 1, 'h': 1, 'v': 1, 'l': 1, 'k': 1})\n"
     ]
    }
   ],
   "source": [
    "# counter example\n",
    "from collections import Counter\n",
    "ct = Counter(sentence)\n",
    "print(ct)"
   ]
  },
  {
   "cell_type": "code",
   "execution_count": 28,
   "metadata": {
    "ExecuteTime": {
     "end_time": "2022-08-22T21:39:45.348565Z",
     "start_time": "2022-08-22T21:39:45.344079Z"
    }
   },
   "outputs": [
    {
     "name": "stdout",
     "output_type": "stream",
     "text": [
      "{'2': 'two'}\n",
      "error\n"
     ]
    }
   ],
   "source": [
    "# UserDict example\n",
    "from collections import UserDict\n",
    "class StrKeyDict(UserDict):\n",
    "    \n",
    "    def __missing__(self, key):\n",
    "        if isinstance(key, str):\n",
    "            raise KeyError(key)\n",
    "        return self[str(key)]\n",
    "    \n",
    "    def __contain__(self, key):\n",
    "        return str(key) in self.data\n",
    "    \n",
    "    def __setitem__(self, key, item):\n",
    "        self.data[str(key)] = item\n",
    "        \n",
    "sud = StrKeyDict()\n",
    "sud[2] = 'two'\n",
    "print(sud)\n",
    "try:\n",
    "    sud[4]\n",
    "except:\n",
    "    print('error')"
   ]
  },
  {
   "cell_type": "code",
   "execution_count": 29,
   "metadata": {
    "ExecuteTime": {
     "end_time": "2022-08-22T21:39:45.352655Z",
     "start_time": "2022-08-22T21:39:45.349796Z"
    }
   },
   "outputs": [
    {
     "name": "stdout",
     "output_type": "stream",
     "text": [
      "{'a': 1, 'b': 2, 'c': 3, 'd': 4, 'e': 5, 'f': 6}\n"
     ]
    }
   ],
   "source": [
    "# Merging\n",
    "x, y, z = {'a':1, 'b':2}, {'c':3, 'd':4}, {'e':5, 'f':6}\n",
    "xyz = {**x, **y, **z}\n",
    "print(xyz)"
   ]
  },
  {
   "cell_type": "code",
   "execution_count": 30,
   "metadata": {
    "ExecuteTime": {
     "end_time": "2022-08-22T21:39:45.357777Z",
     "start_time": "2022-08-22T21:39:45.353712Z"
    }
   },
   "outputs": [
    {
     "name": "stdout",
     "output_type": "stream",
     "text": [
      "method 1: {'a': 1, 'b': 2, 'c': 3, 'd': 4}\n",
      "method 2: {'a': 1, 'b': 2, 'c': 3, 'd': 4}\n"
     ]
    }
   ],
   "source": [
    "# sorting by key\n",
    "d = {'c':3, 'd':4, 'b':2, 'a':1}\n",
    "print('method 1:', {k:d[k] for k in sorted(d)})\n",
    "print('method 2:', {k:v for k,v in sorted(d.items())})\n"
   ]
  },
  {
   "cell_type": "markdown",
   "metadata": {},
   "source": [
    "## Set\n",
    "elements must be hashable."
   ]
  },
  {
   "cell_type": "code",
   "execution_count": 31,
   "metadata": {
    "ExecuteTime": {
     "end_time": "2022-08-22T21:39:45.362685Z",
     "start_time": "2022-08-22T21:39:45.359256Z"
    }
   },
   "outputs": [],
   "source": [
    "# empty set is set(), not {}, which is an empty dictionary\n",
    "empty_set = set()\n",
    "# non-empty sets are specified using {}\n",
    "set_one = {1}\n",
    "set_two = {1,2}"
   ]
  },
  {
   "cell_type": "code",
   "execution_count": 32,
   "metadata": {
    "ExecuteTime": {
     "end_time": "2022-08-22T21:39:45.367061Z",
     "start_time": "2022-08-22T21:39:45.363885Z"
    }
   },
   "outputs": [
    {
     "name": "stdout",
     "output_type": "stream",
     "text": [
      "unhashable type: 'list'\n"
     ]
    }
   ],
   "source": [
    "# element should be hashable\n",
    "try:\n",
    "    set([[1,2],[3,4]])\n",
    "except Exception as e:\n",
    "    print(e)"
   ]
  },
  {
   "cell_type": "markdown",
   "metadata": {},
   "source": [
    "## String"
   ]
  },
  {
   "cell_type": "code",
   "execution_count": 33,
   "metadata": {
    "ExecuteTime": {
     "end_time": "2022-08-22T21:39:45.371006Z",
     "start_time": "2022-08-22T21:39:45.368174Z"
    }
   },
   "outputs": [
    {
     "name": "stdout",
     "output_type": "stream",
     "text": [
      "f string: string1\n",
      "using % string1 string2\n",
      "using braces string1\n"
     ]
    }
   ],
   "source": [
    "# formatting\n",
    "string1, string2 = 'string1', 'string2'\n",
    "## using f string\n",
    "print(f'f string: {string1}')\n",
    "## using %.\n",
    "print('using %% %s %s' % (string1, string2))\n",
    "## {} and format function (this is the same as f string, but old way)\n",
    "print('using braces {}'.format((string1))) # how on earth can we put {} into the string???"
   ]
  },
  {
   "cell_type": "code",
   "execution_count": 34,
   "metadata": {
    "ExecuteTime": {
     "end_time": "2022-08-22T21:39:45.376411Z",
     "start_time": "2022-08-22T21:39:45.372109Z"
    }
   },
   "outputs": [
    {
     "data": {
      "text/plain": [
       "'catcatcat'"
      ]
     },
     "execution_count": 34,
     "metadata": {},
     "output_type": "execute_result"
    }
   ],
   "source": [
    "# string is sort of a list when it comes to multiplication\n",
    "'cat' * 3"
   ]
  },
  {
   "cell_type": "code",
   "execution_count": 35,
   "metadata": {
    "ExecuteTime": {
     "end_time": "2022-08-22T21:39:45.380603Z",
     "start_time": "2022-08-22T21:39:45.377713Z"
    }
   },
   "outputs": [
    {
     "name": "stdout",
     "output_type": "stream",
     "text": [
      "True True True\n",
      "['capitalize', 'casefold', 'center', 'count', 'encode', 'endswith', 'expandtabs', 'find', 'format', 'format_map', 'index', 'isalnum', 'isalpha', 'isascii', 'isdecimal', 'isdigit', 'isidentifier', 'islower', 'isnumeric', 'isprintable', 'isspace', 'istitle', 'isupper', 'join', 'ljust', 'lower', 'lstrip', 'maketrans', 'partition', 'replace', 'rfind', 'rindex', 'rjust', 'rpartition', 'rsplit', 'rstrip', 'split', 'splitlines', 'startswith', 'strip', 'swapcase', 'title', 'translate', 'upper', 'zfill']\n"
     ]
    }
   ],
   "source": [
    "# string methods\n",
    "print('123'.isnumeric(), 'abc'.isalpha(), 'ab23'.isalnum())\n",
    "print([m for m in dir('123') if not m.startswith('_')])"
   ]
  },
  {
   "cell_type": "code",
   "execution_count": null,
   "metadata": {},
   "outputs": [],
   "source": []
  },
  {
   "cell_type": "markdown",
   "metadata": {
    "ExecuteTime": {
     "end_time": "2022-08-22T11:56:00.296556Z",
     "start_time": "2022-08-22T11:56:00.276730Z"
    }
   },
   "source": [
    "## map, filter, reduce\n",
    "\n",
    "An old way (Python 2). Mostly replaced by listcomp and genexpr. "
   ]
  },
  {
   "cell_type": "code",
   "execution_count": 36,
   "metadata": {
    "ExecuteTime": {
     "end_time": "2022-08-22T21:39:45.385304Z",
     "start_time": "2022-08-22T21:39:45.381733Z"
    }
   },
   "outputs": [
    {
     "name": "stdout",
     "output_type": "stream",
     "text": [
      "map & filter: [1, 6, 120]\n",
      "listcomp: [1, 6, 120]\n"
     ]
    }
   ],
   "source": [
    "def factorial_rec(n):\n",
    "    return 1 if n < 1 else n * factorial_rec(n-1)\n",
    "\n",
    "print('map & filter:', list(map(factorial_rec, filter(lambda n: n%2, range(6)))))\n",
    "print('listcomp:', [factorial_rec(n) for n in range(6) if n%2])"
   ]
  },
  {
   "cell_type": "code",
   "execution_count": 37,
   "metadata": {
    "ExecuteTime": {
     "end_time": "2022-08-22T21:39:45.389802Z",
     "start_time": "2022-08-22T21:39:45.386397Z"
    }
   },
   "outputs": [
    {
     "name": "stdout",
     "output_type": "stream",
     "text": [
      "reduce & add: 6\n",
      "sum: 6\n"
     ]
    }
   ],
   "source": [
    "# reduce\n",
    "from functools import reduce\n",
    "from operator import add\n",
    "print('reduce & add:', reduce(add, range(4)))\n",
    "print('sum:', sum(range(4)))"
   ]
  },
  {
   "cell_type": "markdown",
   "metadata": {},
   "source": [
    "## partial\n",
    "freeze some arguments. more flexible than `lambda`"
   ]
  },
  {
   "cell_type": "code",
   "execution_count": 38,
   "metadata": {
    "ExecuteTime": {
     "end_time": "2022-08-22T21:39:45.394851Z",
     "start_time": "2022-08-22T21:39:45.391088Z"
    }
   },
   "outputs": [
    {
     "data": {
      "text/plain": [
       "7"
      ]
     },
     "execution_count": 38,
     "metadata": {},
     "output_type": "execute_result"
    }
   ],
   "source": [
    "from functools import partial\n",
    "add_3 = partial(add, 3)\n",
    "add_3(4)"
   ]
  },
  {
   "cell_type": "markdown",
   "metadata": {
    "ExecuteTime": {
     "end_time": "2022-08-22T13:30:44.813453Z",
     "start_time": "2022-08-22T13:30:44.789277Z"
    }
   },
   "source": [
    "# Generator"
   ]
  },
  {
   "cell_type": "markdown",
   "metadata": {
    "ExecuteTime": {
     "end_time": "2022-08-22T13:03:41.234697Z",
     "start_time": "2022-08-22T13:03:41.211587Z"
    }
   },
   "source": [
    "## yield vs recursion\n",
    "\n",
    "* some of recursive functions can be writtin using `yield`\n",
    "* `yield from` is also interesting - examples to add later"
   ]
  },
  {
   "cell_type": "code",
   "execution_count": 39,
   "metadata": {
    "ExecuteTime": {
     "end_time": "2022-08-22T21:39:45.415012Z",
     "start_time": "2022-08-22T21:39:45.396063Z"
    }
   },
   "outputs": [
    {
     "name": "stdout",
     "output_type": "stream",
     "text": [
      "using yield     [1, 1, 2, 6, 24, 120, 720, 5040, 40320, 362880, 3628800]\n",
      "using recursion [1, 1, 2, 6, 24, 120, 720, 5040, 40320, 362880, 3628800]\n"
     ]
    }
   ],
   "source": [
    "# factorial using yield\n",
    "def factorial_yield(n):\n",
    "    k = 0 # track the index\n",
    "    f = 1 # track the actual value\n",
    "    while k <= n:\n",
    "        yield f\n",
    "        k += 1\n",
    "        f *= k\n",
    "# factorial up to 10\n",
    "fy = factorial_yield(10)\n",
    "print('using yield    ', [f for f in fy])\n",
    "\n",
    "# using recursive version (see above)\n",
    "# this would be slower\n",
    "print('using recursion', [factorial_rec(n) for n in range(11)])"
   ]
  },
  {
   "cell_type": "code",
   "execution_count": 40,
   "metadata": {
    "ExecuteTime": {
     "end_time": "2022-08-22T21:39:45.421603Z",
     "start_time": "2022-08-22T21:39:45.416488Z"
    }
   },
   "outputs": [
    {
     "name": "stdout",
     "output_type": "stream",
     "text": [
      "using yield     [0, 1, 1, 2, 3, 5, 8, 13, 21, 34, 55]\n",
      "using recursion [0, 1, 1, 2, 3, 5, 8, 13, 21, 34, 55]\n"
     ]
    }
   ],
   "source": [
    "# fibonnacci\n",
    "\n",
    "# using recursion\n",
    "def fibonnacci(n):\n",
    "    return n if n < 2 else (fibonnacci(n-2) + fibonnacci(n-1))\n",
    "\n",
    "# using yield. 4-liner though. \n",
    "def fibonnacci_yield(n):\n",
    "    k, f0, f1 = 0, 0, 1 # k: track the index, f0,f1: actual value\n",
    "    while k <= n:\n",
    "        yield f0\n",
    "        k, f0, f1 = k+1, f1, f0+f1 # the following line is a bit of magic\n",
    "        # alternatively,\n",
    "        # k += 1\n",
    "        # temp = f0\n",
    "        # f0 = f1\n",
    "        # f1 += temp\n",
    "\n",
    "# fibonnacci up to 10\n",
    "fb_y = fibonnacci_yield(10)\n",
    "print('using yield    ', [f for f in fb_y])\n",
    "print('using recursion', [fibonnacci(n) for n in range(11)])"
   ]
  },
  {
   "cell_type": "markdown",
   "metadata": {},
   "source": [
    "## Generator, Iterable, Iterator\n",
    "\n",
    "A generator is a type of iterator, which is iterable (Fluent Python p235)\n"
   ]
  },
  {
   "cell_type": "code",
   "execution_count": 41,
   "metadata": {
    "ExecuteTime": {
     "end_time": "2022-08-22T21:39:45.428220Z",
     "start_time": "2022-08-22T21:39:45.422890Z"
    }
   },
   "outputs": [
    {
     "name": "stdout",
     "output_type": "stream",
     "text": [
      "error: called next function on iterable but not iterator\n",
      "next(iter(my_list)): 1\n",
      "tried to subscript an iterator\n",
      "iterable: [1, 2, 3]\n",
      "iterator: [1, 2, 3]\n"
     ]
    }
   ],
   "source": [
    "# iterable vs iterator\n",
    "# 1. list is iterable but not iterator (next does not work)\n",
    "my_list = [1,2,3]\n",
    "try:\n",
    "    next(my_list)\n",
    "except:\n",
    "    print('error: called next function on iterable but not iterator')\n",
    "# 2. call iter to make it an iterator\n",
    "print('next(iter(my_list)):', next(iter(my_list)))\n",
    "# 3. iterator is not subscriptable\n",
    "try:\n",
    "    iter(my_list)[0]\n",
    "except:\n",
    "    print('tried to subscript an iterator')\n",
    "# both iterable and iterable are iterable: \n",
    "print('iterable:', [x for x in my_list])\n",
    "print('iterator:', [x for x in iter(my_list)])"
   ]
  },
  {
   "cell_type": "code",
   "execution_count": 42,
   "metadata": {
    "ExecuteTime": {
     "end_time": "2022-08-22T21:39:45.433457Z",
     "start_time": "2022-08-22T21:39:45.429626Z"
    }
   },
   "outputs": [
    {
     "name": "stdout",
     "output_type": "stream",
     "text": [
      "['a', 'b', 'c', 'd', 'e']\n",
      "a\n"
     ]
    }
   ],
   "source": [
    "# generator is an iterator. two common approaches\n",
    "# 1) implement a separate generator class with __next__ and __iter__ methods\n",
    "# 2) implement __iter__ method using yield to return an iterator\n",
    "\n",
    "# demo with 2)\n",
    "class MyGen:\n",
    "    def __init__(self, string):\n",
    "        self.string = string\n",
    "    def __iter__(self):\n",
    "        for s in self.string:\n",
    "            yield s\n",
    "my_gen = MyGen('abcde') # this is iterable but not iterator\n",
    "print([s for s in my_gen])\n",
    "print(next(iter(my_gen))) # iter makes it an iterable"
   ]
  },
  {
   "cell_type": "markdown",
   "metadata": {},
   "source": [
    "# Class\n",
    "\n",
    "* no static attributes (Fluent Python author does not think this is required)\n",
    "* private attributes: use `__` as pre-fix (*debatable* convention though)\n",
    "* Inheritance:\n",
    "    * Python 3 constructor:\n",
    "        ````python\n",
    "        def __init__(self,a,b):\n",
    "            super().__init__(a,b)\n",
    "        ````\n",
    "    * Method: Python 2 way was more complex to call. \n",
    "        * Python 3: `super().__setitem__(key,value)`\n",
    "        * Python 2: `super(subclass,self).__setitem__(key,value)`\n",
    "    * Do not subclass built-in types (e.g. `dict`, `list`, `str`) although not impossible. \n",
    "    * Multiple inheritance is a pain\n",
    "    * Mixin class seems to be a nice way to handle multiple inheritance\n",
    "* **Late Binding** rule: \"A basic rule of object-oriented programming: the search for methods should always start from the class of the receiver (`self`), even when the call hapens inside a method imiplemented in a superclass.\" \n",
    "* Generic class: define a subclass by passing `Generic[T]`. "
   ]
  },
  {
   "cell_type": "markdown",
   "metadata": {},
   "source": [
    "## Inheritance & abstractmethod"
   ]
  },
  {
   "cell_type": "code",
   "execution_count": 43,
   "metadata": {
    "ExecuteTime": {
     "end_time": "2022-08-22T21:39:45.442218Z",
     "start_time": "2022-08-22T21:39:45.434631Z"
    }
   },
   "outputs": [],
   "source": [
    "# example in https://realpython.com/inheritance-composition-python/\n",
    "\n",
    "from abc import ABC, abstractmethod\n",
    "\n",
    "# employee, an abstract class. \n",
    "class Employee(ABC):\n",
    "    def __init__(self, id, name):\n",
    "        self.id = id\n",
    "        self.name = name\n",
    "    \n",
    "    @abstractmethod\n",
    "    def calculate_payroll(self):\n",
    "        pass\n",
    "\n",
    "class SalaryEmployee(Employee):\n",
    "    def __init__(self, id, name, weekly_salary):\n",
    "        super().__init__(id, name)\n",
    "        self.weekly_salary = weekly_salary\n",
    "    def calculate_payroll(self):\n",
    "        return self.weekly_salary\n",
    "\n",
    "class HourlyEmployee(Employee):\n",
    "    def __init__(self, id, name, hours_worked, hour_rate):\n",
    "        super().__init__(id, name)\n",
    "        self.hours_worked = hours_worked\n",
    "        self.hour_rate = hour_rate\n",
    "    def calculate_payroll(self):\n",
    "        return self.hours_worked * self.hour_rate\n",
    "    \n",
    "class CommissionEmployee(SalaryEmployee):\n",
    "    def __init__(self, id, name, weekly_salary, commission):\n",
    "        super().__init__(id, name, weekly_salary)\n",
    "        self.commission = commission\n",
    "    def calculate_payroll(self):\n",
    "        fixed = super().calculate_payroll()\n",
    "        return fixed + self.commission\n",
    "\n",
    "# Duck Typing - no need to use inheritance as long as required methods are implemented. \n",
    "#\n",
    "class DisgruntledEmployee:\n",
    "    def __init__(self, id, name):\n",
    "        self.id = id\n",
    "        self.name = name\n",
    "    def calculate_payroll(self):\n",
    "        return 1000000\n",
    "\n",
    "class PayrollSystem:\n",
    "    def calculate_payroll(self, employees):\n",
    "        print('calculating payroll')\n",
    "        for employee in employees:\n",
    "            print(f'payroll for: {employee.id} - {employee.name}')\n",
    "            print(f'- check amount: {employee.calculate_payroll()}')\n",
    "            "
   ]
  },
  {
   "cell_type": "code",
   "execution_count": 44,
   "metadata": {
    "ExecuteTime": {
     "end_time": "2022-08-22T21:39:45.448359Z",
     "start_time": "2022-08-22T21:39:45.443881Z"
    }
   },
   "outputs": [
    {
     "name": "stdout",
     "output_type": "stream",
     "text": [
      "error: to instantiate abstract class\n",
      "calculating payroll\n",
      "payroll for: 1 - John Smith\n",
      "- check amount: 1500\n",
      "payroll for: 2 - Jane Doe\n",
      "- check amount: 600\n",
      "payroll for: 3 - Kevin Bacon\n",
      "- check amount: 1250\n",
      "payroll for: 20000 - Anonymous\n",
      "- check amount: 1000000\n"
     ]
    }
   ],
   "source": [
    "try:\n",
    "    base_employee = Employee(0, 'Anna Bonn')\n",
    "except:\n",
    "    print('error: to instantiate abstract class')\n",
    "\n",
    "salary_employee = SalaryEmployee(1, 'John Smith', 1500)\n",
    "hourly_employee = HourlyEmployee(2, 'Jane Doe', 40, 15)\n",
    "commission_employee = CommissionEmployee(3, 'Kevin Bacon', 1000, 250)\n",
    "disgruntled_employee = DisgruntledEmployee(20000, 'Anonymous')\n",
    "payroll_system = PayrollSystem()\n",
    "payroll_system.calculate_payroll([\n",
    "    salary_employee,\n",
    "    hourly_employee,\n",
    "    commission_employee, \n",
    "    disgruntled_employee\n",
    "])"
   ]
  },
  {
   "cell_type": "markdown",
   "metadata": {},
   "source": [
    "## classmethod & staticmethod\n",
    "\n",
    "The Python [tutorial](https://docs.python.org/3/tutorial/) does not mention `classmethod` and `staticmethod`. Maybe they are decorators? \n",
    "\n",
    "* `classmethod`: first argument is the class (not object) itself \n",
    "* `staticmethod`: no speicial first argument. a plain function that happens to live in a class body"
   ]
  },
  {
   "cell_type": "code",
   "execution_count": 45,
   "metadata": {
    "ExecuteTime": {
     "end_time": "2022-08-22T21:39:45.453668Z",
     "start_time": "2022-08-22T21:39:45.449900Z"
    }
   },
   "outputs": [],
   "source": [
    "# example from https://towardsdatascience.com/53-python-interview-questions-and-answers-91fa311eec3f\n",
    "\n",
    "class CoffeeShop:\n",
    "    specialty = 'espresso'\n",
    "    \n",
    "    def __init__(self, coffee_price):\n",
    "        self.coffee_price = coffee_price\n",
    "    \n",
    "    # instance method\n",
    "    def make_coffee(self):\n",
    "        self.check_weather() # or CoffeeShop.check_weather()        \n",
    "        print(f'Making {self.specialty} for ${self.coffee_price}')\n",
    "    \n",
    "    # static method    \n",
    "    @staticmethod\n",
    "    def check_weather():\n",
    "        print('Its sunny')\n",
    "    # class method\n",
    "    @classmethod\n",
    "    def change_specialty(cls, specialty):\n",
    "        cls.specialty = specialty\n",
    "        print(f'Specialty changed to {specialty}')\n",
    "\n",
    "        "
   ]
  },
  {
   "cell_type": "code",
   "execution_count": 46,
   "metadata": {
    "ExecuteTime": {
     "end_time": "2022-08-22T21:39:45.457776Z",
     "start_time": "2022-08-22T21:39:45.454970Z"
    }
   },
   "outputs": [
    {
     "name": "stdout",
     "output_type": "stream",
     "text": [
      "Its sunny\n",
      "Making espresso for $1.0\n"
     ]
    }
   ],
   "source": [
    "cs = CoffeeShop(1.0)\n",
    "cs.make_coffee()"
   ]
  },
  {
   "cell_type": "code",
   "execution_count": 47,
   "metadata": {
    "ExecuteTime": {
     "end_time": "2022-08-22T21:39:45.462240Z",
     "start_time": "2022-08-22T21:39:45.459187Z"
    }
   },
   "outputs": [
    {
     "name": "stdout",
     "output_type": "stream",
     "text": [
      "Its sunny\n",
      "Its sunny\n"
     ]
    }
   ],
   "source": [
    "CoffeeShop.check_weather()\n",
    "cs.check_weather()"
   ]
  },
  {
   "cell_type": "code",
   "execution_count": 48,
   "metadata": {
    "ExecuteTime": {
     "end_time": "2022-08-22T21:39:45.466692Z",
     "start_time": "2022-08-22T21:39:45.463733Z"
    }
   },
   "outputs": [
    {
     "name": "stdout",
     "output_type": "stream",
     "text": [
      "Specialty changed to drip coffee\n",
      "Its sunny\n",
      "Making drip coffee for $1.0\n"
     ]
    }
   ],
   "source": [
    "cs.change_specialty('drip coffee')\n",
    "cs.make_coffee()"
   ]
  },
  {
   "cell_type": "code",
   "execution_count": 49,
   "metadata": {
    "ExecuteTime": {
     "end_time": "2022-08-22T21:39:45.471237Z",
     "start_time": "2022-08-22T21:39:45.467903Z"
    }
   },
   "outputs": [
    {
     "name": "stdout",
     "output_type": "stream",
     "text": [
      "Specialty changed to latte\n",
      "Its sunny\n",
      "Making latte for $1.0\n"
     ]
    }
   ],
   "source": [
    "CoffeeShop.change_specialty('latte')\n",
    "cs.make_coffee()"
   ]
  },
  {
   "cell_type": "markdown",
   "metadata": {},
   "source": [
    "# Decorator\n",
    "\n",
    "* function decorator: a callable that takes another function as an argument\n",
    "* class decorator: a callable that takes another class as an argument\n",
    "\n",
    "    ````python\n",
    "    @decorate\n",
    "    def target():\n",
    "        print('running target()')\n",
    "    ````\n",
    "    is equivalent to\n",
    "    ````python\n",
    "    def target():\n",
    "        print('running target()')\n",
    "    target = decorate(target)\n",
    "    ````\n",
    "* **built-in** decorators\n",
    "    * `functools.wraps`: copy relevant attributes\n",
    "    * `functools.cache`,  `functools.lru_cache`, `functools.lru_cache()`: cache (3.9, 3.8, >3.2)\n",
    "       \n",
    "       This decorator is really good. "
   ]
  },
  {
   "cell_type": "code",
   "execution_count": 50,
   "metadata": {
    "ExecuteTime": {
     "end_time": "2022-08-22T21:39:45.475916Z",
     "start_time": "2022-08-22T21:39:45.472453Z"
    }
   },
   "outputs": [
    {
     "name": "stdout",
     "output_type": "stream",
     "text": [
      "running inner()\n",
      "None\n",
      "<function deco.<locals>.inner at 0x7f91d0558290>\n"
     ]
    }
   ],
   "source": [
    "# example\n",
    "def deco(func):\n",
    "    def inner():\n",
    "        print('running inner()')\n",
    "    return inner\n",
    "\n",
    "@deco\n",
    "def target():\n",
    "    prini('running target()')\n",
    "    \n",
    "print(target())\n",
    "print(target)"
   ]
  },
  {
   "cell_type": "code",
   "execution_count": 51,
   "metadata": {
    "ExecuteTime": {
     "end_time": "2022-08-22T21:39:45.483400Z",
     "start_time": "2022-08-22T21:39:45.477785Z"
    }
   },
   "outputs": [],
   "source": [
    "import functools\n",
    "# show function name\n",
    "def show_function_name(func):\n",
    "    @functools.wraps(func)\n",
    "    def named(*args, **kwargs):\n",
    "        result = func(*args, **kwargs)\n",
    "        name = func.__name__\n",
    "        arg_lst = [str(arg) for arg in args]\n",
    "        arg_lst.extend([f'{k}={v!r}' for k,v in kwargs.items()])\n",
    "        arg_str = ','.join(arg_lst)\n",
    "        print(f'{name}({arg_str})')\n",
    "        return result\n",
    "    return named"
   ]
  },
  {
   "cell_type": "code",
   "execution_count": 52,
   "metadata": {
    "ExecuteTime": {
     "end_time": "2022-08-22T21:39:45.491258Z",
     "start_time": "2022-08-22T21:39:45.485066Z"
    }
   },
   "outputs": [
    {
     "name": "stdout",
     "output_type": "stream",
     "text": [
      "fibonnacci(1)\n",
      "fibonnacci(0)\n",
      "fibonnacci(1)\n",
      "fibonnacci(2)\n",
      "fibonnacci(3)\n",
      "fibonnacci(0)\n",
      "fibonnacci(1)\n",
      "fibonnacci(2)\n",
      "fibonnacci(1)\n",
      "fibonnacci(0)\n",
      "fibonnacci(1)\n",
      "fibonnacci(2)\n",
      "fibonnacci(3)\n",
      "fibonnacci(4)\n",
      "fibonnacci(5)\n"
     ]
    },
    {
     "data": {
      "text/plain": [
       "5"
      ]
     },
     "execution_count": 52,
     "metadata": {},
     "output_type": "execute_result"
    }
   ],
   "source": [
    "@show_function_name\n",
    "def fibonnacci(n):\n",
    "    return n if n < 2 else (fibonnacci(n-2) + fibonnacci(n-1))\n",
    "\n",
    "fibonnacci(5)"
   ]
  },
  {
   "cell_type": "code",
   "execution_count": 53,
   "metadata": {
    "ExecuteTime": {
     "end_time": "2022-08-22T21:39:45.498153Z",
     "start_time": "2022-08-22T21:39:45.493207Z"
    }
   },
   "outputs": [
    {
     "name": "stdout",
     "output_type": "stream",
     "text": [
      "fibonnacci(1)\n",
      "fibonnacci(0)\n",
      "fibonnacci(2)\n",
      "fibonnacci(3)\n",
      "fibonnacci(4)\n",
      "fibonnacci(5)\n"
     ]
    },
    {
     "data": {
      "text/plain": [
       "5"
      ]
     },
     "execution_count": 53,
     "metadata": {},
     "output_type": "execute_result"
    }
   ],
   "source": [
    "@functools.lru_cache() # this is a magic. \n",
    "@show_function_name\n",
    "def fibonnacci(n):\n",
    "    return n if n < 2 else (fibonnacci(n-2) + fibonnacci(n-1))\n",
    "fibonnacci(5)"
   ]
  },
  {
   "cell_type": "markdown",
   "metadata": {},
   "source": [
    "# Closure\n",
    "\n",
    "* FP p314: A closure is a function `f` with an extended scope that encompasses variables referenced in the body of `f` that are not global variables or local variables of `f`. Such variables come from the local scope of an outer function that encompasses `f`. \n",
    "* Basically, it references some variables outside the function. "
   ]
  },
  {
   "cell_type": "code",
   "execution_count": 54,
   "metadata": {
    "ExecuteTime": {
     "end_time": "2022-08-22T21:39:45.503357Z",
     "start_time": "2022-08-22T21:39:45.499790Z"
    }
   },
   "outputs": [
    {
     "name": "stdout",
     "output_type": "stream",
     "text": [
      "10.0 10.5 11.0\n"
     ]
    }
   ],
   "source": [
    "# class based example\n",
    "# cumulative averager\n",
    "class Averager():\n",
    "    def __init__(self):\n",
    "        self.series = [] # THIS is refernced by __call__ function. \n",
    "    def __call__(self, new_value):\n",
    "        self.series.append(new_value)\n",
    "        return sum(self.series)/ len(self.series)\n",
    "avg = Averager()\n",
    "print(avg(10), avg(11), avg(12))"
   ]
  },
  {
   "cell_type": "code",
   "execution_count": 55,
   "metadata": {
    "ExecuteTime": {
     "end_time": "2022-08-22T21:39:45.510862Z",
     "start_time": "2022-08-22T21:39:45.504587Z"
    }
   },
   "outputs": [
    {
     "name": "stdout",
     "output_type": "stream",
     "text": [
      "10.0 10.5 11.0\n"
     ]
    }
   ],
   "source": [
    "# function based example\n",
    "def make_averager():\n",
    "    series = []\n",
    "    def averager(new_value):\n",
    "        series.append(new_value)\n",
    "        return sum(series)/ len(series)\n",
    "    return averager\n",
    "\n",
    "avg = make_averager()\n",
    "print(avg(10), avg(11), avg(12))"
   ]
  },
  {
   "cell_type": "markdown",
   "metadata": {},
   "source": [
    "# Numpy\n",
    "\n",
    "ultimately [here](https://numpy.org/doc/stable/user/index.html)"
   ]
  },
  {
   "cell_type": "markdown",
   "metadata": {},
   "source": [
    "## Python array"
   ]
  },
  {
   "cell_type": "code",
   "execution_count": 1,
   "metadata": {
    "ExecuteTime": {
     "end_time": "2022-08-22T22:13:02.185309Z",
     "start_time": "2022-08-22T22:13:02.162176Z"
    }
   },
   "outputs": [
    {
     "name": "stdout",
     "output_type": "stream",
     "text": [
      "array('i', [1, 2, 3, 1, 2, 3])\n"
     ]
    }
   ],
   "source": [
    "# Before staring numpy, Python has its own array, which is like a list but must be homogenous elements. \n",
    "# But, it works very differently.\n",
    "import array\n",
    "X_array = array.array('i', [1,2,3])\n",
    "Y_array = X_array * 2\n",
    "print(Y_array)"
   ]
  },
  {
   "cell_type": "markdown",
   "metadata": {},
   "source": [
    "## now, numpy arrays"
   ]
  },
  {
   "cell_type": "code",
   "execution_count": 3,
   "metadata": {
    "ExecuteTime": {
     "end_time": "2022-08-22T22:13:13.881907Z",
     "start_time": "2022-08-22T22:13:13.876787Z"
    }
   },
   "outputs": [],
   "source": [
    "import numpy as np"
   ]
  },
  {
   "cell_type": "code",
   "execution_count": 4,
   "metadata": {
    "ExecuteTime": {
     "end_time": "2022-08-22T22:13:31.601395Z",
     "start_time": "2022-08-22T22:13:31.577276Z"
    }
   },
   "outputs": [
    {
     "data": {
      "text/plain": [
       "array([1, 2, 3, 4, 5])"
      ]
     },
     "execution_count": 4,
     "metadata": {},
     "output_type": "execute_result"
    }
   ],
   "source": [
    "# concat\n",
    "a = np.array([1,2])\n",
    "b = np.array([3,4,5])\n",
    "np.concatenate((a,b))"
   ]
  },
  {
   "cell_type": "code",
   "execution_count": 15,
   "metadata": {
    "ExecuteTime": {
     "end_time": "2022-08-22T22:23:27.190947Z",
     "start_time": "2022-08-22T22:23:27.181235Z"
    }
   },
   "outputs": [
    {
     "data": {
      "text/plain": [
       "array([[[5, 6]],\n",
       "\n",
       "       [[6, 7]],\n",
       "\n",
       "       [[7, 8]]])"
      ]
     },
     "execution_count": 15,
     "metadata": {},
     "output_type": "execute_result"
    }
   ],
   "source": [
    "# np.newaxis (alias of None)\n",
    "x = np.array([1,2,3])\n",
    "y = np.array([4,5])\n",
    "x[:,np.newaxis, np.newaxis] + y # make x as 2D. y broadcasts. "
   ]
  },
  {
   "cell_type": "code",
   "execution_count": 17,
   "metadata": {
    "ExecuteTime": {
     "end_time": "2022-08-22T22:25:03.002647Z",
     "start_time": "2022-08-22T22:25:02.994176Z"
    }
   },
   "outputs": [
    {
     "name": "stdout",
     "output_type": "stream",
     "text": [
      "[[-1.43997572  1.49390855  0.20585357]\n",
      " [-0.55726379  1.87814613 -1.02595348]\n",
      " [-0.86113962  0.04024694  1.02592993]]\n",
      "[[-1.43997572  1.49390855  0.20585357]\n",
      " [-0.55726379  1.87814613 -1.02595348]\n",
      " [-0.86113962  0.04024694  1.02592993]]\n"
     ]
    }
   ],
   "source": [
    "# Ellipsis: repeated :\n",
    "x4 = np.random.standard_normal((3,3,3,3))\n",
    "print(x4[1,...,2])\n",
    "print(x4[1,:,:,2])"
   ]
  },
  {
   "cell_type": "code",
   "execution_count": 24,
   "metadata": {
    "ExecuteTime": {
     "end_time": "2022-08-22T22:26:56.715373Z",
     "start_time": "2022-08-22T22:26:56.705740Z"
    }
   },
   "outputs": [
    {
     "name": "stdout",
     "output_type": "stream",
     "text": [
      "[-2.2245668  -0.00357806]\n",
      "[-2.2245668  -0.00357806]\n"
     ]
    }
   ],
   "source": [
    "# slice. allows to pass '0:2' as a variable. \n",
    "s12 = slice(0,2)\n",
    "print(x4[0:2,0,0,0])\n",
    "print(x4[s12,0,0,0])"
   ]
  },
  {
   "cell_type": "code",
   "execution_count": 31,
   "metadata": {
    "ExecuteTime": {
     "end_time": "2022-08-22T22:28:27.767452Z",
     "start_time": "2022-08-22T22:28:27.757087Z"
    }
   },
   "outputs": [
    {
     "data": {
      "text/plain": [
       "array([-0.00357806,  1.21378404])"
      ]
     },
     "execution_count": 31,
     "metadata": {},
     "output_type": "execute_result"
    }
   ],
   "source": [
    "x4[slice(1,None,None),0,0,0]"
   ]
  },
  {
   "cell_type": "markdown",
   "metadata": {},
   "source": [
    "# Pandas\n",
    "ultimately, [here](https://pandas.pydata.org/docs/user_guide/)"
   ]
  },
  {
   "cell_type": "code",
   "execution_count": 58,
   "metadata": {
    "ExecuteTime": {
     "end_time": "2022-08-22T21:39:45.834554Z",
     "start_time": "2022-08-22T21:39:45.671153Z"
    }
   },
   "outputs": [],
   "source": [
    "import pandas as pd\n",
    "from IPython.display import display"
   ]
  },
  {
   "cell_type": "code",
   "execution_count": 59,
   "metadata": {
    "ExecuteTime": {
     "end_time": "2022-08-22T21:39:45.851617Z",
     "start_time": "2022-08-22T21:39:45.836045Z"
    }
   },
   "outputs": [
    {
     "data": {
      "text/html": [
       "<div>\n",
       "<style scoped>\n",
       "    .dataframe tbody tr th:only-of-type {\n",
       "        vertical-align: middle;\n",
       "    }\n",
       "\n",
       "    .dataframe tbody tr th {\n",
       "        vertical-align: top;\n",
       "    }\n",
       "\n",
       "    .dataframe thead th {\n",
       "        text-align: right;\n",
       "    }\n",
       "</style>\n",
       "<table border=\"1\" class=\"dataframe\">\n",
       "  <thead>\n",
       "    <tr style=\"text-align: right;\">\n",
       "      <th></th>\n",
       "      <th>a</th>\n",
       "      <th>b</th>\n",
       "    </tr>\n",
       "  </thead>\n",
       "  <tbody>\n",
       "    <tr>\n",
       "      <th>0</th>\n",
       "      <td>1</td>\n",
       "      <td>2</td>\n",
       "    </tr>\n",
       "    <tr>\n",
       "      <th>1</th>\n",
       "      <td>3</td>\n",
       "      <td>4</td>\n",
       "    </tr>\n",
       "  </tbody>\n",
       "</table>\n",
       "</div>"
      ],
      "text/plain": [
       "   a  b\n",
       "0  1  2\n",
       "1  3  4"
      ]
     },
     "metadata": {},
     "output_type": "display_data"
    },
    {
     "data": {
      "text/plain": [
       "0  a    1\n",
       "   b    2\n",
       "1  a    3\n",
       "   b    4\n",
       "dtype: int64"
      ]
     },
     "metadata": {},
     "output_type": "display_data"
    },
    {
     "data": {
      "text/plain": [
       "a  0    1\n",
       "   1    3\n",
       "b  0    2\n",
       "   1    4\n",
       "dtype: int64"
      ]
     },
     "metadata": {},
     "output_type": "display_data"
    }
   ],
   "source": [
    "# stack and unstack is always confusing, which one is which? \n",
    "df = pd.DataFrame(data=[[1,2],[3,4]], columns=['a','b'])\n",
    "display(df)\n",
    "display(df.stack()) # stack: bring column to index\n",
    "display(df.unstack()) # unstack: bring index to column"
   ]
  },
  {
   "cell_type": "code",
   "execution_count": 60,
   "metadata": {
    "ExecuteTime": {
     "end_time": "2022-08-22T21:39:45.857838Z",
     "start_time": "2022-08-22T21:39:45.852961Z"
    }
   },
   "outputs": [
    {
     "data": {
      "text/html": [
       "<div>\n",
       "<style scoped>\n",
       "    .dataframe tbody tr th:only-of-type {\n",
       "        vertical-align: middle;\n",
       "    }\n",
       "\n",
       "    .dataframe tbody tr th {\n",
       "        vertical-align: top;\n",
       "    }\n",
       "\n",
       "    .dataframe thead th {\n",
       "        text-align: right;\n",
       "    }\n",
       "</style>\n",
       "<table border=\"1\" class=\"dataframe\">\n",
       "  <thead>\n",
       "    <tr style=\"text-align: right;\">\n",
       "      <th></th>\n",
       "      <th>a</th>\n",
       "      <th>b</th>\n",
       "    </tr>\n",
       "  </thead>\n",
       "  <tbody>\n",
       "    <tr>\n",
       "      <th>0</th>\n",
       "      <td>1</td>\n",
       "      <td>2</td>\n",
       "    </tr>\n",
       "    <tr>\n",
       "      <th>1</th>\n",
       "      <td>3</td>\n",
       "      <td>4</td>\n",
       "    </tr>\n",
       "  </tbody>\n",
       "</table>\n",
       "</div>"
      ],
      "text/plain": [
       "   a  b\n",
       "0  1  2\n",
       "1  3  4"
      ]
     },
     "execution_count": 60,
     "metadata": {},
     "output_type": "execute_result"
    }
   ],
   "source": [
    "df"
   ]
  },
  {
   "cell_type": "code",
   "execution_count": null,
   "metadata": {},
   "outputs": [],
   "source": []
  },
  {
   "cell_type": "markdown",
   "metadata": {
    "ExecuteTime": {
     "end_time": "2022-08-22T21:20:38.464481Z",
     "start_time": "2022-08-22T21:20:38.460118Z"
    }
   },
   "source": [
    "# END"
   ]
  },
  {
   "cell_type": "code",
   "execution_count": 61,
   "metadata": {
    "ExecuteTime": {
     "end_time": "2022-08-22T21:39:45.862310Z",
     "start_time": "2022-08-22T21:39:45.859136Z"
    }
   },
   "outputs": [],
   "source": [
    "def tree(cls, level=0):\n",
    "    yield cls.__name__, level\n",
    "    for sub_cls in cls.__subclasses__():\n",
    "        yield from tree(sub_cls, level+1)\n"
   ]
  },
  {
   "cell_type": "code",
   "execution_count": 62,
   "metadata": {
    "ExecuteTime": {
     "end_time": "2022-08-22T21:39:45.866656Z",
     "start_time": "2022-08-22T21:39:45.863608Z"
    }
   },
   "outputs": [],
   "source": [
    "def display(cls):\n",
    "    for cls_name, level in tree(cls):\n",
    "        index = ' '*4 * level\n",
    "        print(f'{index}{cls_name}')"
   ]
  },
  {
   "cell_type": "code",
   "execution_count": 63,
   "metadata": {
    "ExecuteTime": {
     "end_time": "2022-08-22T21:39:45.872794Z",
     "start_time": "2022-08-22T21:39:45.867946Z"
    }
   },
   "outputs": [
    {
     "name": "stdout",
     "output_type": "stream",
     "text": [
      "BaseException\n",
      "    Exception\n",
      "        TypeError\n",
      "            FloatOperation\n",
      "            MultipartConversionError\n",
      "            UFuncTypeError\n",
      "                UFuncTypeError\n",
      "                UFuncTypeError\n",
      "                UFuncTypeError\n",
      "                    UFuncTypeError\n",
      "                    UFuncTypeError\n",
      "            ApplyTypeError\n",
      "        StopAsyncIteration\n",
      "        StopIteration\n",
      "        ImportError\n",
      "            ModuleNotFoundError\n",
      "            ZipImportError\n",
      "            SQLAlchemyRequired\n",
      "        OSError\n",
      "            ConnectionError\n",
      "                BrokenPipeError\n",
      "                ConnectionAbortedError\n",
      "                ConnectionRefusedError\n",
      "                ConnectionResetError\n",
      "                    RemoteDisconnected\n",
      "            BlockingIOError\n",
      "            ChildProcessError\n",
      "            FileExistsError\n",
      "            FileNotFoundError\n",
      "            IsADirectoryError\n",
      "            NotADirectoryError\n",
      "            InterruptedError\n",
      "                InterruptedSystemCall\n",
      "            PermissionError\n",
      "            ProcessLookupError\n",
      "            TimeoutError\n",
      "            UnsupportedOperation\n",
      "            ItimerError\n",
      "            herror\n",
      "            gaierror\n",
      "            timeout\n",
      "            SSLError\n",
      "                SSLCertVerificationError\n",
      "                SSLZeroReturnError\n",
      "                SSLWantReadError\n",
      "                SSLWantWriteError\n",
      "                SSLSyscallError\n",
      "                SSLEOFError\n",
      "            Error\n",
      "                SameFileError\n",
      "            SpecialFileError\n",
      "            ExecError\n",
      "            ReadError\n",
      "            URLError\n",
      "                HTTPError\n",
      "                ContentTooShortError\n",
      "            DatabaseError\n",
      "        EOFError\n",
      "            IncompleteReadError\n",
      "        RuntimeError\n",
      "            RecursionError\n",
      "            NotImplementedError\n",
      "                ZMQVersionError\n",
      "                StdinNotImplementedError\n",
      "                AbstractMethodError\n",
      "            _DeadlockError\n",
      "            BrokenBarrierError\n",
      "            BrokenExecutor\n",
      "                BrokenThreadPool\n",
      "            SendfileNotAvailableError\n",
      "            ExtractionError\n",
      "            VariableError\n",
      "            TooHardError\n",
      "        NameError\n",
      "            UnboundLocalError\n",
      "            UndefinedVariableError\n",
      "            NumExprClobberingError\n",
      "        AttributeError\n",
      "            OptionError\n",
      "            FrozenInstanceError\n",
      "        SyntaxError\n",
      "            IndentationError\n",
      "                TabError\n",
      "        LookupError\n",
      "            IndexError\n",
      "                AxisError\n",
      "            KeyError\n",
      "                NoSuchKernel\n",
      "                UnknownBackend\n",
      "                UnknownTimeZoneError\n",
      "                OptionError\n",
      "                UnsortedIndexError\n",
      "            CodecRegistryError\n",
      "        ValueError\n",
      "            UnicodeError\n",
      "                UnicodeEncodeError\n",
      "                UnicodeDecodeError\n",
      "                UnicodeTranslateError\n",
      "            UnsupportedOperation\n",
      "            JSONDecodeError\n",
      "            SSLCertVerificationError\n",
      "            Error\n",
      "            IllegalMonthError\n",
      "            IllegalWeekdayError\n",
      "            ParserError\n",
      "            ClassNotFound\n",
      "            ClipboardEmpty\n",
      "            MessageDefect\n",
      "                NoBoundaryInMultipartDefect\n",
      "                StartBoundaryNotFoundDefect\n",
      "                CloseBoundaryNotFoundDefect\n",
      "                FirstHeaderLineIsContinuationDefect\n",
      "                MisplacedEnvelopeHeaderDefect\n",
      "                MissingHeaderBodySeparatorDefect\n",
      "                MultipartInvariantViolationDefect\n",
      "                InvalidMultipartContentTransferEncodingDefect\n",
      "                UndecodableBytesDefect\n",
      "                InvalidBase64PaddingDefect\n",
      "                InvalidBase64CharactersDefect\n",
      "                InvalidBase64LengthDefect\n",
      "                HeaderDefect\n",
      "                    InvalidHeaderDefect\n",
      "                    HeaderMissingRequiredValue\n",
      "                    NonPrintableDefect\n",
      "                    ObsoleteHeaderDefect\n",
      "                    NonASCIILocalPartDefect\n",
      "            MacroToEdit\n",
      "            InvalidFileException\n",
      "            UnequalIterablesError\n",
      "            InvalidVersion\n",
      "            _InvalidELFFileHeader\n",
      "            InvalidWheelFilename\n",
      "            InvalidSdistFilename\n",
      "            InvalidSpecifier\n",
      "            InvalidMarker\n",
      "            UndefinedComparison\n",
      "            UndefinedEnvironmentName\n",
      "            InvalidRequirement\n",
      "                RequirementParseError\n",
      "            AxisError\n",
      "            OutOfBoundsDatetime\n",
      "            DateParseError\n",
      "            OutOfBoundsTimedelta\n",
      "            IncompatibleFrequency\n",
      "            IntCastingNaNError\n",
      "            NullFrequencyError\n",
      "            UnsupportedFunctionCall\n",
      "            ParserError\n",
      "            EmptyDataError\n",
      "            MergeError\n",
      "            DuplicateLabelError\n",
      "            InvalidVersion\n",
      "            SettingWithCopyError\n",
      "        AssertionError\n",
      "        ArithmeticError\n",
      "            FloatingPointError\n",
      "            OverflowError\n",
      "            ZeroDivisionError\n",
      "                DivisionByZero\n",
      "                DivisionUndefined\n",
      "            DecimalException\n",
      "                Clamped\n",
      "                Rounded\n",
      "                    Underflow\n",
      "                    Overflow\n",
      "                Inexact\n",
      "                    Underflow\n",
      "                    Overflow\n",
      "                Subnormal\n",
      "                    Underflow\n",
      "                DivisionByZero\n",
      "                FloatOperation\n",
      "                InvalidOperation\n",
      "                    ConversionSyntax\n",
      "                    DivisionImpossible\n",
      "                    DivisionUndefined\n",
      "                    InvalidContext\n",
      "        SystemError\n",
      "            CodecRegistryError\n",
      "        ReferenceError\n",
      "        MemoryError\n",
      "            MemoryError\n",
      "        BufferError\n",
      "        Warning\n",
      "            UserWarning\n",
      "                GetPassWarning\n",
      "                FormatterWarning\n",
      "                VisibleDeprecationWarning\n",
      "                RankWarning\n",
      "                ConversionWarning\n",
      "                RankWarning\n",
      "                CSSWarning\n",
      "            DeprecationWarning\n",
      "                ProvisionalWarning\n",
      "                ModuleDeprecationWarning\n",
      "            PendingDeprecationWarning\n",
      "            SyntaxWarning\n",
      "            RuntimeWarning\n",
      "                ProactorSelectorThreadWarning\n",
      "                UnknownTimezoneWarning\n",
      "                PEP440Warning\n",
      "                ComplexWarning\n",
      "            FutureWarning\n",
      "                ProvisionalCompleterWarning\n",
      "                MaskedArrayFutureWarning\n",
      "            ImportWarning\n",
      "            UnicodeWarning\n",
      "            BytesWarning\n",
      "            ResourceWarning\n",
      "            DeprecatedTzFormatWarning\n",
      "            PkgResourcesDeprecationWarning\n",
      "            PerformanceWarning\n",
      "            DtypeWarning\n",
      "            ParserWarning\n",
      "            AccessorRegistrationWarning\n",
      "            SettingWithCopyWarning\n",
      "            IncompatibilityWarning\n",
      "            AttributeConflictWarning\n",
      "            DuplicateWarning\n",
      "            PossiblePrecisionLoss\n",
      "            ValueLabelTypeMismatch\n",
      "            InvalidColumnName\n",
      "            CategoricalConversionWarning\n",
      "        Error\n",
      "        _OptionError\n",
      "        _Error\n",
      "        error\n",
      "        Verbose\n",
      "        SubprocessError\n",
      "            CalledProcessError\n",
      "            TimeoutExpired\n",
      "        TokenError\n",
      "        StopTokenizing\n",
      "        EndOfBlock\n",
      "        TraitError\n",
      "        Error\n",
      "        Error\n",
      "            CancelledError\n",
      "            TimeoutError\n",
      "            InvalidStateError\n",
      "        _GiveupOnSendfile\n",
      "        error\n",
      "        Incomplete\n",
      "        QueueEmpty\n",
      "        QueueFull\n",
      "        LimitOverrunError\n",
      "        Empty\n",
      "        Full\n",
      "        ArgumentError\n",
      "        ZMQBaseError\n",
      "            ZMQError\n",
      "                ContextTerminated\n",
      "                Again\n",
      "                InterruptedSystemCall\n",
      "            ZMQBindError\n",
      "            NotDone\n",
      "        _Stop\n",
      "        PickleError\n",
      "            PicklingError\n",
      "            UnpicklingError\n",
      "        ArgumentError\n",
      "        ArgumentTypeError\n",
      "        ConfigError\n",
      "            ConfigLoaderError\n",
      "                ArgumentError\n",
      "            ConfigFileNotFound\n",
      "        ConfigurableError\n",
      "            MultipleInstanceError\n",
      "        ApplicationError\n",
      "        error\n",
      "        TimeoutError\n",
      "        error\n",
      "        ReturnValueIgnoredError\n",
      "        KeyReuseError\n",
      "        UnknownKeyError\n",
      "        LeakedCallbackError\n",
      "        BadYieldError\n",
      "        ReturnValueIgnoredError\n",
      "        Return\n",
      "        InvalidPortNumber\n",
      "        error\n",
      "        LZMAError\n",
      "        RegistryError\n",
      "        NoIPAddresses\n",
      "        BadZipFile\n",
      "        LargeZipFile\n",
      "        Error\n",
      "            NoSectionError\n",
      "            DuplicateSectionError\n",
      "            DuplicateOptionError\n",
      "            NoOptionError\n",
      "            InterpolationError\n",
      "                InterpolationMissingOptionError\n",
      "                InterpolationSyntaxError\n",
      "                InterpolationDepthError\n",
      "            ParsingError\n",
      "                MissingSectionHeaderError\n",
      "        BadEntryPoint\n",
      "        NoSuchEntryPoint\n",
      "        DuplicateKernelError\n",
      "        ErrorDuringImport\n",
      "        BdbQuit\n",
      "        Restart\n",
      "        ExceptionPexpect\n",
      "            EOF\n",
      "            TIMEOUT\n",
      "        PtyProcessError\n",
      "        FindCmdError\n",
      "        HomeDirError\n",
      "        ProfileDirError\n",
      "        IPythonCoreError\n",
      "            TryNext\n",
      "            UsageError\n",
      "            StdinNotImplementedError\n",
      "        InputRejected\n",
      "        GetoptError\n",
      "        OptionError\n",
      "        ErrorToken\n",
      "        PrefilterError\n",
      "        AliasError\n",
      "            InvalidAliasError\n",
      "        Error\n",
      "            InterfaceError\n",
      "            DatabaseError\n",
      "                InternalError\n",
      "                OperationalError\n",
      "                ProgrammingError\n",
      "                IntegrityError\n",
      "                DataError\n",
      "                NotSupportedError\n",
      "        Warning\n",
      "        SpaceInInput\n",
      "        DOMException\n",
      "            IndexSizeErr\n",
      "            DomstringSizeErr\n",
      "            HierarchyRequestErr\n",
      "            WrongDocumentErr\n",
      "            InvalidCharacterErr\n",
      "            NoDataAllowedErr\n",
      "            NoModificationAllowedErr\n",
      "            NotFoundErr\n",
      "            NotSupportedErr\n",
      "            InuseAttributeErr\n",
      "            InvalidStateErr\n",
      "            SyntaxErr\n",
      "            InvalidModificationErr\n",
      "            NamespaceErr\n",
      "            InvalidAccessErr\n",
      "            ValidationErr\n",
      "        ValidationError\n",
      "        EditReadOnlyBuffer\n",
      "        _Retry\n",
      "        InvalidLayoutError\n",
      "        HeightIsUnknownError\n",
      "        ParserSyntaxError\n",
      "        InternalParseError\n",
      "        _PositionUpdatingFinished\n",
      "        SimpleGetItemNotFound\n",
      "        UncaughtAttributeError\n",
      "        HasNoContext\n",
      "        ParamIssue\n",
      "        _JediError\n",
      "            InternalError\n",
      "            WrongVersion\n",
      "            RefactoringError\n",
      "        OnErrorLeaf\n",
      "        InvalidPythonEnvironment\n",
      "        MessageError\n",
      "            MessageParseError\n",
      "                HeaderParseError\n",
      "                BoundaryError\n",
      "            MultipartConversionError\n",
      "            CharsetError\n",
      "        Error\n",
      "        HTTPException\n",
      "            NotConnected\n",
      "            InvalidURL\n",
      "            UnknownProtocol\n",
      "            UnknownTransferEncoding\n",
      "            UnimplementedFileMode\n",
      "            IncompleteRead\n",
      "            ImproperConnectionState\n",
      "                CannotSendRequest\n",
      "                CannotSendHeader\n",
      "                ResponseNotReady\n",
      "            BadStatusLine\n",
      "                RemoteDisconnected\n",
      "            LineTooLong\n",
      "        InteractivelyDefined\n",
      "        KillEmbedded\n",
      "        Error\n",
      "            NoSuchProcess\n",
      "                ZombieProcess\n",
      "            AccessDenied\n",
      "            TimeoutExpired\n",
      "        _Ipv6UnsupportedError\n",
      "        QueueEmpty\n",
      "        QueueFull\n",
      "        ExpatError\n",
      "        Error\n",
      "            ProtocolError\n",
      "            ResponseError\n",
      "            Fault\n",
      "        ParseBaseException\n",
      "            ParseException\n",
      "            ParseFatalException\n",
      "                ParseSyntaxException\n",
      "        RecursiveGrammarException\n",
      "        ResolutionError\n",
      "            VersionConflict\n",
      "                ContextualVersionConflict\n",
      "            DistributionNotFound\n",
      "            UnknownExtra\n",
      "        UnableToResolveVariableException\n",
      "        InvalidTypeInArgsException\n",
      "        LapackError\n",
      "        LinAlgError\n",
      "        ConverterError\n",
      "            ConverterLockError\n",
      "        MAError\n",
      "            MaskError\n",
      "        Error\n",
      "            UnknownTimeZoneError\n",
      "            InvalidTimeError\n",
      "                AmbiguousTimeError\n",
      "                NonExistentTimeError\n",
      "        NumbaUtilError\n",
      "        InvalidIndexError\n",
      "        Error\n",
      "        DataError\n",
      "        SpecificationError\n",
      "        InvalidComparison\n",
      "        IndexingError\n",
      "        PossibleDataLossError\n",
      "        ClosedFileError\n",
      "    GeneratorExit\n",
      "    SystemExit\n",
      "    KeyboardInterrupt\n",
      "    DebuggerInitializationError\n",
      "    AbortThread\n"
     ]
    }
   ],
   "source": [
    "display(BaseException)"
   ]
  }
 ],
 "metadata": {
  "interpreter": {
   "hash": "ee7c0cc3b0a50dc102791a57a4c6df513eb101147397ea6cca46de28a79ee5a4"
  },
  "kernelspec": {
   "display_name": "Python 3 (ipykernel)",
   "language": "python",
   "name": "python3"
  },
  "language_info": {
   "codemirror_mode": {
    "name": "ipython",
    "version": 3
   },
   "file_extension": ".py",
   "mimetype": "text/x-python",
   "name": "python",
   "nbconvert_exporter": "python",
   "pygments_lexer": "ipython3",
   "version": "3.7.9"
  }
 },
 "nbformat": 4,
 "nbformat_minor": 2
}
